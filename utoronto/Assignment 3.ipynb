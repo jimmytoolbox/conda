{
 "cells": [
  {
   "cell_type": "markdown",
   "metadata": {},
   "source": [
    "Before you turn this problem in, make sure everything runs as expected. First, **restart the kernel** (in the menu bar, select Kernel$\\rightarrow$Restart) and then **run all cells** (in the menu bar, select Cell$\\rightarrow$Run All).\n",
    "\n",
    "Make sure that in addition to the code, you provide written answers for all questions of the assignment. \n",
    "\n",
    "Below, please fill in your name:"
   ]
  },
  {
   "cell_type": "code",
   "execution_count": 1,
   "metadata": {},
   "outputs": [],
   "source": [
    "NAME = \"James Shen\""
   ]
  },
  {
   "cell_type": "markdown",
   "metadata": {},
   "source": [
    "# Assignment 3 - Linear Regression\n",
    "\n",
    "In this assignment, we will be building a linear regression model to understand the drivers which influence car prices. \n",
    "\n",
    "The car_data.csv dataset contains the following data points about car prices:\n",
    "\n",
    "- 1 Car_Name - the model of the car\n",
    "- 2 Year - the year of the car\n",
    "- 3 Selling_Price - the current selling price of the used car\n",
    "- 4 Present_Price - the price of the same car, but new\n",
    "- 5 Kms_Driven - how many kms have been driven\n",
    "- 6 Fuel_Type - diesel or gas\n",
    "- 7 Seller_Type - sold by a dealer or individual seller\n",
    "- 8 Transmission - standard or automatic\n",
    "- 9 Owner - number of owners\n",
    "\n",
    "\n",
    "Complete the following:\n",
    "\n",
    "**Data Preparation**\n",
    "\n",
    "**Question 1** _(3 points)_\n",
    "* Create dummy variables for the Fuel_Type, Transmission and Seller_Type variables.\n",
    "\n",
    "**Question 2** _(3 points)\n",
    "* Create a new column which captures the age of the car as 'new' or 'old'.\n",
    "\n",
    "**Question 3** _(3 points)\n",
    "* Scale the Kms_Driven, Selling_Price, and Present_Price variables (i.e. ensure the variables have the same scale - thousands or tens. You can choose whichever scale you prefer).\n",
    "\n",
    "**Exploratory Analysis**\n",
    "\n",
    "**Question 4** _(3 points)_\n",
    "* Conduct exploratory analysis for the categorical variables. What are you findings?\n",
    "\n",
    "**Question 5** _(10 points)_\n",
    "* Conduct exploratory analysis for the continuous variables. Ensure you review each variable by itself, and in combination with the other variables to identify insights and trends. What are your findings?\n",
    "\n",
    "\n",
    "**Regression Model**\n",
    "\n",
    "**Question 6** _(1 point)_\n",
    "* Based on the insights identified, state a hypothesis which you can test with a regression model.  \n",
    "\n",
    "**Question 7** _(5 points)_\n",
    "* Build a linear regression model based on your hypothesis. Interpret the results.\n",
    "\n",
    "**Question 8** _(2 points)_\n",
    "* How could you make your model better? Is there data that you think would be helpful to achieve a higherd R2 value?"
   ]
  },
  {
   "cell_type": "code",
   "execution_count": 2,
   "metadata": {},
   "outputs": [],
   "source": [
    "import numpy as np\n",
    "import pandas as pd\n",
    "import matplotlib.pyplot as plt\n",
    "import seaborn as sns\n",
    "import statsmodels.api as sm"
   ]
  },
  {
   "cell_type": "code",
   "execution_count": 3,
   "metadata": {},
   "outputs": [
    {
     "data": {
      "text/html": [
       "<div>\n",
       "<style scoped>\n",
       "    .dataframe tbody tr th:only-of-type {\n",
       "        vertical-align: middle;\n",
       "    }\n",
       "\n",
       "    .dataframe tbody tr th {\n",
       "        vertical-align: top;\n",
       "    }\n",
       "\n",
       "    .dataframe thead th {\n",
       "        text-align: right;\n",
       "    }\n",
       "</style>\n",
       "<table border=\"1\" class=\"dataframe\">\n",
       "  <thead>\n",
       "    <tr style=\"text-align: right;\">\n",
       "      <th></th>\n",
       "      <th>Car_Name</th>\n",
       "      <th>Year</th>\n",
       "      <th>Selling_Price</th>\n",
       "      <th>Present_Price</th>\n",
       "      <th>Kms_Driven</th>\n",
       "      <th>Fuel_Type</th>\n",
       "      <th>Seller_Type</th>\n",
       "      <th>Transmission</th>\n",
       "      <th>Owner</th>\n",
       "    </tr>\n",
       "  </thead>\n",
       "  <tbody>\n",
       "    <tr>\n",
       "      <th>0</th>\n",
       "      <td>ritz</td>\n",
       "      <td>2014</td>\n",
       "      <td>3.35</td>\n",
       "      <td>5.59</td>\n",
       "      <td>27000</td>\n",
       "      <td>Petrol</td>\n",
       "      <td>Dealer</td>\n",
       "      <td>Manual</td>\n",
       "      <td>0</td>\n",
       "    </tr>\n",
       "    <tr>\n",
       "      <th>1</th>\n",
       "      <td>sx4</td>\n",
       "      <td>2013</td>\n",
       "      <td>4.75</td>\n",
       "      <td>9.54</td>\n",
       "      <td>43000</td>\n",
       "      <td>Diesel</td>\n",
       "      <td>Dealer</td>\n",
       "      <td>Manual</td>\n",
       "      <td>0</td>\n",
       "    </tr>\n",
       "    <tr>\n",
       "      <th>2</th>\n",
       "      <td>ciaz</td>\n",
       "      <td>2017</td>\n",
       "      <td>7.25</td>\n",
       "      <td>9.85</td>\n",
       "      <td>6900</td>\n",
       "      <td>Petrol</td>\n",
       "      <td>Dealer</td>\n",
       "      <td>Manual</td>\n",
       "      <td>0</td>\n",
       "    </tr>\n",
       "    <tr>\n",
       "      <th>3</th>\n",
       "      <td>wagon r</td>\n",
       "      <td>2011</td>\n",
       "      <td>2.85</td>\n",
       "      <td>4.15</td>\n",
       "      <td>5200</td>\n",
       "      <td>Petrol</td>\n",
       "      <td>Dealer</td>\n",
       "      <td>Manual</td>\n",
       "      <td>0</td>\n",
       "    </tr>\n",
       "    <tr>\n",
       "      <th>4</th>\n",
       "      <td>swift</td>\n",
       "      <td>2014</td>\n",
       "      <td>4.60</td>\n",
       "      <td>6.87</td>\n",
       "      <td>42450</td>\n",
       "      <td>Diesel</td>\n",
       "      <td>Dealer</td>\n",
       "      <td>Manual</td>\n",
       "      <td>0</td>\n",
       "    </tr>\n",
       "    <tr>\n",
       "      <th>...</th>\n",
       "      <td>...</td>\n",
       "      <td>...</td>\n",
       "      <td>...</td>\n",
       "      <td>...</td>\n",
       "      <td>...</td>\n",
       "      <td>...</td>\n",
       "      <td>...</td>\n",
       "      <td>...</td>\n",
       "      <td>...</td>\n",
       "    </tr>\n",
       "    <tr>\n",
       "      <th>296</th>\n",
       "      <td>city</td>\n",
       "      <td>2016</td>\n",
       "      <td>9.50</td>\n",
       "      <td>11.60</td>\n",
       "      <td>33988</td>\n",
       "      <td>Diesel</td>\n",
       "      <td>Dealer</td>\n",
       "      <td>Manual</td>\n",
       "      <td>0</td>\n",
       "    </tr>\n",
       "    <tr>\n",
       "      <th>297</th>\n",
       "      <td>brio</td>\n",
       "      <td>2015</td>\n",
       "      <td>4.00</td>\n",
       "      <td>5.90</td>\n",
       "      <td>60000</td>\n",
       "      <td>Petrol</td>\n",
       "      <td>Dealer</td>\n",
       "      <td>Manual</td>\n",
       "      <td>0</td>\n",
       "    </tr>\n",
       "    <tr>\n",
       "      <th>298</th>\n",
       "      <td>city</td>\n",
       "      <td>2009</td>\n",
       "      <td>3.35</td>\n",
       "      <td>11.00</td>\n",
       "      <td>87934</td>\n",
       "      <td>Petrol</td>\n",
       "      <td>Dealer</td>\n",
       "      <td>Manual</td>\n",
       "      <td>0</td>\n",
       "    </tr>\n",
       "    <tr>\n",
       "      <th>299</th>\n",
       "      <td>city</td>\n",
       "      <td>2017</td>\n",
       "      <td>11.50</td>\n",
       "      <td>12.50</td>\n",
       "      <td>9000</td>\n",
       "      <td>Diesel</td>\n",
       "      <td>Dealer</td>\n",
       "      <td>Manual</td>\n",
       "      <td>0</td>\n",
       "    </tr>\n",
       "    <tr>\n",
       "      <th>300</th>\n",
       "      <td>brio</td>\n",
       "      <td>2016</td>\n",
       "      <td>5.30</td>\n",
       "      <td>5.90</td>\n",
       "      <td>5464</td>\n",
       "      <td>Petrol</td>\n",
       "      <td>Dealer</td>\n",
       "      <td>Manual</td>\n",
       "      <td>0</td>\n",
       "    </tr>\n",
       "  </tbody>\n",
       "</table>\n",
       "<p>301 rows × 9 columns</p>\n",
       "</div>"
      ],
      "text/plain": [
       "    Car_Name  Year  Selling_Price  Present_Price  Kms_Driven Fuel_Type  \\\n",
       "0       ritz  2014           3.35           5.59       27000    Petrol   \n",
       "1        sx4  2013           4.75           9.54       43000    Diesel   \n",
       "2       ciaz  2017           7.25           9.85        6900    Petrol   \n",
       "3    wagon r  2011           2.85           4.15        5200    Petrol   \n",
       "4      swift  2014           4.60           6.87       42450    Diesel   \n",
       "..       ...   ...            ...            ...         ...       ...   \n",
       "296     city  2016           9.50          11.60       33988    Diesel   \n",
       "297     brio  2015           4.00           5.90       60000    Petrol   \n",
       "298     city  2009           3.35          11.00       87934    Petrol   \n",
       "299     city  2017          11.50          12.50        9000    Diesel   \n",
       "300     brio  2016           5.30           5.90        5464    Petrol   \n",
       "\n",
       "    Seller_Type Transmission  Owner  \n",
       "0        Dealer       Manual      0  \n",
       "1        Dealer       Manual      0  \n",
       "2        Dealer       Manual      0  \n",
       "3        Dealer       Manual      0  \n",
       "4        Dealer       Manual      0  \n",
       "..          ...          ...    ...  \n",
       "296      Dealer       Manual      0  \n",
       "297      Dealer       Manual      0  \n",
       "298      Dealer       Manual      0  \n",
       "299      Dealer       Manual      0  \n",
       "300      Dealer       Manual      0  \n",
       "\n",
       "[301 rows x 9 columns]"
      ]
     },
     "execution_count": 3,
     "metadata": {},
     "output_type": "execute_result"
    }
   ],
   "source": [
    "df = pd.read_csv('car_data.csv')\n",
    "df"
   ]
  },
  {
   "cell_type": "code",
   "execution_count": 4,
   "metadata": {},
   "outputs": [
    {
     "data": {
      "text/html": [
       "<div>\n",
       "<style scoped>\n",
       "    .dataframe tbody tr th:only-of-type {\n",
       "        vertical-align: middle;\n",
       "    }\n",
       "\n",
       "    .dataframe tbody tr th {\n",
       "        vertical-align: top;\n",
       "    }\n",
       "\n",
       "    .dataframe thead th {\n",
       "        text-align: right;\n",
       "    }\n",
       "</style>\n",
       "<table border=\"1\" class=\"dataframe\">\n",
       "  <thead>\n",
       "    <tr style=\"text-align: right;\">\n",
       "      <th></th>\n",
       "      <th>CNG</th>\n",
       "      <th>Diesel</th>\n",
       "      <th>Petrol</th>\n",
       "    </tr>\n",
       "  </thead>\n",
       "  <tbody>\n",
       "    <tr>\n",
       "      <th>0</th>\n",
       "      <td>0</td>\n",
       "      <td>0</td>\n",
       "      <td>1</td>\n",
       "    </tr>\n",
       "    <tr>\n",
       "      <th>1</th>\n",
       "      <td>0</td>\n",
       "      <td>1</td>\n",
       "      <td>0</td>\n",
       "    </tr>\n",
       "    <tr>\n",
       "      <th>2</th>\n",
       "      <td>0</td>\n",
       "      <td>0</td>\n",
       "      <td>1</td>\n",
       "    </tr>\n",
       "    <tr>\n",
       "      <th>3</th>\n",
       "      <td>0</td>\n",
       "      <td>0</td>\n",
       "      <td>1</td>\n",
       "    </tr>\n",
       "    <tr>\n",
       "      <th>4</th>\n",
       "      <td>0</td>\n",
       "      <td>1</td>\n",
       "      <td>0</td>\n",
       "    </tr>\n",
       "  </tbody>\n",
       "</table>\n",
       "</div>"
      ],
      "text/plain": [
       "   CNG  Diesel  Petrol\n",
       "0    0       0       1\n",
       "1    0       1       0\n",
       "2    0       0       1\n",
       "3    0       0       1\n",
       "4    0       1       0"
      ]
     },
     "execution_count": 4,
     "metadata": {},
     "output_type": "execute_result"
    }
   ],
   "source": [
    "# Question 1 (3 points)\n",
    "\n",
    "#  Create dummy variables for the Fuel_Type, Transmission and Seller_Type variables.\n",
    "#\n",
    "fuel_dummy = pd.get_dummies(df['Fuel_Type'])\n",
    "fuel_dummy.head()"
   ]
  },
  {
   "cell_type": "code",
   "execution_count": 5,
   "metadata": {},
   "outputs": [
    {
     "data": {
      "text/html": [
       "<div>\n",
       "<style scoped>\n",
       "    .dataframe tbody tr th:only-of-type {\n",
       "        vertical-align: middle;\n",
       "    }\n",
       "\n",
       "    .dataframe tbody tr th {\n",
       "        vertical-align: top;\n",
       "    }\n",
       "\n",
       "    .dataframe thead th {\n",
       "        text-align: right;\n",
       "    }\n",
       "</style>\n",
       "<table border=\"1\" class=\"dataframe\">\n",
       "  <thead>\n",
       "    <tr style=\"text-align: right;\">\n",
       "      <th></th>\n",
       "      <th>Automatic</th>\n",
       "      <th>Manual</th>\n",
       "    </tr>\n",
       "  </thead>\n",
       "  <tbody>\n",
       "    <tr>\n",
       "      <th>0</th>\n",
       "      <td>0</td>\n",
       "      <td>1</td>\n",
       "    </tr>\n",
       "    <tr>\n",
       "      <th>1</th>\n",
       "      <td>0</td>\n",
       "      <td>1</td>\n",
       "    </tr>\n",
       "    <tr>\n",
       "      <th>2</th>\n",
       "      <td>0</td>\n",
       "      <td>1</td>\n",
       "    </tr>\n",
       "    <tr>\n",
       "      <th>3</th>\n",
       "      <td>0</td>\n",
       "      <td>1</td>\n",
       "    </tr>\n",
       "    <tr>\n",
       "      <th>4</th>\n",
       "      <td>0</td>\n",
       "      <td>1</td>\n",
       "    </tr>\n",
       "  </tbody>\n",
       "</table>\n",
       "</div>"
      ],
      "text/plain": [
       "   Automatic  Manual\n",
       "0          0       1\n",
       "1          0       1\n",
       "2          0       1\n",
       "3          0       1\n",
       "4          0       1"
      ]
     },
     "execution_count": 5,
     "metadata": {},
     "output_type": "execute_result"
    }
   ],
   "source": [
    "transm_dummy = pd.get_dummies(df['Transmission'])\n",
    "transm_dummy.head()"
   ]
  },
  {
   "cell_type": "code",
   "execution_count": 6,
   "metadata": {},
   "outputs": [
    {
     "data": {
      "text/html": [
       "<div>\n",
       "<style scoped>\n",
       "    .dataframe tbody tr th:only-of-type {\n",
       "        vertical-align: middle;\n",
       "    }\n",
       "\n",
       "    .dataframe tbody tr th {\n",
       "        vertical-align: top;\n",
       "    }\n",
       "\n",
       "    .dataframe thead th {\n",
       "        text-align: right;\n",
       "    }\n",
       "</style>\n",
       "<table border=\"1\" class=\"dataframe\">\n",
       "  <thead>\n",
       "    <tr style=\"text-align: right;\">\n",
       "      <th></th>\n",
       "      <th>Dealer</th>\n",
       "      <th>Individual</th>\n",
       "    </tr>\n",
       "  </thead>\n",
       "  <tbody>\n",
       "    <tr>\n",
       "      <th>0</th>\n",
       "      <td>1</td>\n",
       "      <td>0</td>\n",
       "    </tr>\n",
       "    <tr>\n",
       "      <th>1</th>\n",
       "      <td>1</td>\n",
       "      <td>0</td>\n",
       "    </tr>\n",
       "    <tr>\n",
       "      <th>2</th>\n",
       "      <td>1</td>\n",
       "      <td>0</td>\n",
       "    </tr>\n",
       "    <tr>\n",
       "      <th>3</th>\n",
       "      <td>1</td>\n",
       "      <td>0</td>\n",
       "    </tr>\n",
       "    <tr>\n",
       "      <th>4</th>\n",
       "      <td>1</td>\n",
       "      <td>0</td>\n",
       "    </tr>\n",
       "  </tbody>\n",
       "</table>\n",
       "</div>"
      ],
      "text/plain": [
       "   Dealer  Individual\n",
       "0       1           0\n",
       "1       1           0\n",
       "2       1           0\n",
       "3       1           0\n",
       "4       1           0"
      ]
     },
     "execution_count": 6,
     "metadata": {},
     "output_type": "execute_result"
    }
   ],
   "source": [
    "seller_dummy = pd.get_dummies(df['Seller_Type'])\n",
    "seller_dummy.head()"
   ]
  },
  {
   "cell_type": "code",
   "execution_count": 7,
   "metadata": {},
   "outputs": [
    {
     "data": {
      "text/html": [
       "<div>\n",
       "<style scoped>\n",
       "    .dataframe tbody tr th:only-of-type {\n",
       "        vertical-align: middle;\n",
       "    }\n",
       "\n",
       "    .dataframe tbody tr th {\n",
       "        vertical-align: top;\n",
       "    }\n",
       "\n",
       "    .dataframe thead th {\n",
       "        text-align: right;\n",
       "    }\n",
       "</style>\n",
       "<table border=\"1\" class=\"dataframe\">\n",
       "  <thead>\n",
       "    <tr style=\"text-align: right;\">\n",
       "      <th></th>\n",
       "      <th>Car_Name</th>\n",
       "      <th>Year</th>\n",
       "      <th>Selling_Price</th>\n",
       "      <th>Present_Price</th>\n",
       "      <th>Kms_Driven</th>\n",
       "      <th>Fuel_Type</th>\n",
       "      <th>Seller_Type</th>\n",
       "      <th>Transmission</th>\n",
       "      <th>Owner</th>\n",
       "      <th>CNG</th>\n",
       "      <th>Diesel</th>\n",
       "      <th>Petrol</th>\n",
       "      <th>Automatic</th>\n",
       "      <th>Manual</th>\n",
       "      <th>Dealer</th>\n",
       "      <th>Individual</th>\n",
       "    </tr>\n",
       "  </thead>\n",
       "  <tbody>\n",
       "    <tr>\n",
       "      <th>0</th>\n",
       "      <td>ritz</td>\n",
       "      <td>2014</td>\n",
       "      <td>3.35</td>\n",
       "      <td>5.59</td>\n",
       "      <td>27000</td>\n",
       "      <td>Petrol</td>\n",
       "      <td>Dealer</td>\n",
       "      <td>Manual</td>\n",
       "      <td>0</td>\n",
       "      <td>0</td>\n",
       "      <td>0</td>\n",
       "      <td>1</td>\n",
       "      <td>0</td>\n",
       "      <td>1</td>\n",
       "      <td>1</td>\n",
       "      <td>0</td>\n",
       "    </tr>\n",
       "    <tr>\n",
       "      <th>1</th>\n",
       "      <td>sx4</td>\n",
       "      <td>2013</td>\n",
       "      <td>4.75</td>\n",
       "      <td>9.54</td>\n",
       "      <td>43000</td>\n",
       "      <td>Diesel</td>\n",
       "      <td>Dealer</td>\n",
       "      <td>Manual</td>\n",
       "      <td>0</td>\n",
       "      <td>0</td>\n",
       "      <td>1</td>\n",
       "      <td>0</td>\n",
       "      <td>0</td>\n",
       "      <td>1</td>\n",
       "      <td>1</td>\n",
       "      <td>0</td>\n",
       "    </tr>\n",
       "    <tr>\n",
       "      <th>2</th>\n",
       "      <td>ciaz</td>\n",
       "      <td>2017</td>\n",
       "      <td>7.25</td>\n",
       "      <td>9.85</td>\n",
       "      <td>6900</td>\n",
       "      <td>Petrol</td>\n",
       "      <td>Dealer</td>\n",
       "      <td>Manual</td>\n",
       "      <td>0</td>\n",
       "      <td>0</td>\n",
       "      <td>0</td>\n",
       "      <td>1</td>\n",
       "      <td>0</td>\n",
       "      <td>1</td>\n",
       "      <td>1</td>\n",
       "      <td>0</td>\n",
       "    </tr>\n",
       "    <tr>\n",
       "      <th>3</th>\n",
       "      <td>wagon r</td>\n",
       "      <td>2011</td>\n",
       "      <td>2.85</td>\n",
       "      <td>4.15</td>\n",
       "      <td>5200</td>\n",
       "      <td>Petrol</td>\n",
       "      <td>Dealer</td>\n",
       "      <td>Manual</td>\n",
       "      <td>0</td>\n",
       "      <td>0</td>\n",
       "      <td>0</td>\n",
       "      <td>1</td>\n",
       "      <td>0</td>\n",
       "      <td>1</td>\n",
       "      <td>1</td>\n",
       "      <td>0</td>\n",
       "    </tr>\n",
       "    <tr>\n",
       "      <th>4</th>\n",
       "      <td>swift</td>\n",
       "      <td>2014</td>\n",
       "      <td>4.60</td>\n",
       "      <td>6.87</td>\n",
       "      <td>42450</td>\n",
       "      <td>Diesel</td>\n",
       "      <td>Dealer</td>\n",
       "      <td>Manual</td>\n",
       "      <td>0</td>\n",
       "      <td>0</td>\n",
       "      <td>1</td>\n",
       "      <td>0</td>\n",
       "      <td>0</td>\n",
       "      <td>1</td>\n",
       "      <td>1</td>\n",
       "      <td>0</td>\n",
       "    </tr>\n",
       "  </tbody>\n",
       "</table>\n",
       "</div>"
      ],
      "text/plain": [
       "  Car_Name  Year  Selling_Price  Present_Price  Kms_Driven Fuel_Type  \\\n",
       "0     ritz  2014           3.35           5.59       27000    Petrol   \n",
       "1      sx4  2013           4.75           9.54       43000    Diesel   \n",
       "2     ciaz  2017           7.25           9.85        6900    Petrol   \n",
       "3  wagon r  2011           2.85           4.15        5200    Petrol   \n",
       "4    swift  2014           4.60           6.87       42450    Diesel   \n",
       "\n",
       "  Seller_Type Transmission  Owner  CNG  Diesel  Petrol  Automatic  Manual  \\\n",
       "0      Dealer       Manual      0    0       0       1          0       1   \n",
       "1      Dealer       Manual      0    0       1       0          0       1   \n",
       "2      Dealer       Manual      0    0       0       1          0       1   \n",
       "3      Dealer       Manual      0    0       0       1          0       1   \n",
       "4      Dealer       Manual      0    0       1       0          0       1   \n",
       "\n",
       "   Dealer  Individual  \n",
       "0       1           0  \n",
       "1       1           0  \n",
       "2       1           0  \n",
       "3       1           0  \n",
       "4       1           0  "
      ]
     },
     "execution_count": 7,
     "metadata": {},
     "output_type": "execute_result"
    }
   ],
   "source": [
    "#  Concatenate 3 newly created dummy variables to the existing DataFrame\n",
    "#  Use axis=1 to make sure concatenating along column, rather than default index\n",
    "#\n",
    "df = pd.concat([df, fuel_dummy, transm_dummy, seller_dummy], axis=1)\n",
    "df.head()"
   ]
  },
  {
   "cell_type": "code",
   "execution_count": 8,
   "metadata": {
    "scrolled": true
   },
   "outputs": [
    {
     "data": {
      "text/html": [
       "<div>\n",
       "<style scoped>\n",
       "    .dataframe tbody tr th:only-of-type {\n",
       "        vertical-align: middle;\n",
       "    }\n",
       "\n",
       "    .dataframe tbody tr th {\n",
       "        vertical-align: top;\n",
       "    }\n",
       "\n",
       "    .dataframe thead th {\n",
       "        text-align: right;\n",
       "    }\n",
       "</style>\n",
       "<table border=\"1\" class=\"dataframe\">\n",
       "  <thead>\n",
       "    <tr style=\"text-align: right;\">\n",
       "      <th></th>\n",
       "      <th>Car_Name</th>\n",
       "      <th>Year</th>\n",
       "      <th>Selling_Price</th>\n",
       "      <th>Present_Price</th>\n",
       "      <th>Kms_Driven</th>\n",
       "      <th>Fuel_Type</th>\n",
       "      <th>Seller_Type</th>\n",
       "      <th>Transmission</th>\n",
       "      <th>Owner</th>\n",
       "      <th>CNG</th>\n",
       "      <th>Diesel</th>\n",
       "      <th>Petrol</th>\n",
       "      <th>Automatic</th>\n",
       "      <th>Manual</th>\n",
       "      <th>Dealer</th>\n",
       "      <th>Individual</th>\n",
       "      <th>age</th>\n",
       "    </tr>\n",
       "  </thead>\n",
       "  <tbody>\n",
       "    <tr>\n",
       "      <th>0</th>\n",
       "      <td>ritz</td>\n",
       "      <td>2014</td>\n",
       "      <td>3.35</td>\n",
       "      <td>5.59</td>\n",
       "      <td>27000</td>\n",
       "      <td>Petrol</td>\n",
       "      <td>Dealer</td>\n",
       "      <td>Manual</td>\n",
       "      <td>0</td>\n",
       "      <td>0</td>\n",
       "      <td>0</td>\n",
       "      <td>1</td>\n",
       "      <td>0</td>\n",
       "      <td>1</td>\n",
       "      <td>1</td>\n",
       "      <td>0</td>\n",
       "      <td>old</td>\n",
       "    </tr>\n",
       "    <tr>\n",
       "      <th>1</th>\n",
       "      <td>sx4</td>\n",
       "      <td>2013</td>\n",
       "      <td>4.75</td>\n",
       "      <td>9.54</td>\n",
       "      <td>43000</td>\n",
       "      <td>Diesel</td>\n",
       "      <td>Dealer</td>\n",
       "      <td>Manual</td>\n",
       "      <td>0</td>\n",
       "      <td>0</td>\n",
       "      <td>1</td>\n",
       "      <td>0</td>\n",
       "      <td>0</td>\n",
       "      <td>1</td>\n",
       "      <td>1</td>\n",
       "      <td>0</td>\n",
       "      <td>old</td>\n",
       "    </tr>\n",
       "    <tr>\n",
       "      <th>2</th>\n",
       "      <td>ciaz</td>\n",
       "      <td>2017</td>\n",
       "      <td>7.25</td>\n",
       "      <td>9.85</td>\n",
       "      <td>6900</td>\n",
       "      <td>Petrol</td>\n",
       "      <td>Dealer</td>\n",
       "      <td>Manual</td>\n",
       "      <td>0</td>\n",
       "      <td>0</td>\n",
       "      <td>0</td>\n",
       "      <td>1</td>\n",
       "      <td>0</td>\n",
       "      <td>1</td>\n",
       "      <td>1</td>\n",
       "      <td>0</td>\n",
       "      <td>old</td>\n",
       "    </tr>\n",
       "    <tr>\n",
       "      <th>3</th>\n",
       "      <td>wagon r</td>\n",
       "      <td>2011</td>\n",
       "      <td>2.85</td>\n",
       "      <td>4.15</td>\n",
       "      <td>5200</td>\n",
       "      <td>Petrol</td>\n",
       "      <td>Dealer</td>\n",
       "      <td>Manual</td>\n",
       "      <td>0</td>\n",
       "      <td>0</td>\n",
       "      <td>0</td>\n",
       "      <td>1</td>\n",
       "      <td>0</td>\n",
       "      <td>1</td>\n",
       "      <td>1</td>\n",
       "      <td>0</td>\n",
       "      <td>old</td>\n",
       "    </tr>\n",
       "    <tr>\n",
       "      <th>4</th>\n",
       "      <td>swift</td>\n",
       "      <td>2014</td>\n",
       "      <td>4.60</td>\n",
       "      <td>6.87</td>\n",
       "      <td>42450</td>\n",
       "      <td>Diesel</td>\n",
       "      <td>Dealer</td>\n",
       "      <td>Manual</td>\n",
       "      <td>0</td>\n",
       "      <td>0</td>\n",
       "      <td>1</td>\n",
       "      <td>0</td>\n",
       "      <td>0</td>\n",
       "      <td>1</td>\n",
       "      <td>1</td>\n",
       "      <td>0</td>\n",
       "      <td>old</td>\n",
       "    </tr>\n",
       "  </tbody>\n",
       "</table>\n",
       "</div>"
      ],
      "text/plain": [
       "  Car_Name  Year  Selling_Price  Present_Price  Kms_Driven Fuel_Type  \\\n",
       "0     ritz  2014           3.35           5.59       27000    Petrol   \n",
       "1      sx4  2013           4.75           9.54       43000    Diesel   \n",
       "2     ciaz  2017           7.25           9.85        6900    Petrol   \n",
       "3  wagon r  2011           2.85           4.15        5200    Petrol   \n",
       "4    swift  2014           4.60           6.87       42450    Diesel   \n",
       "\n",
       "  Seller_Type Transmission  Owner  CNG  Diesel  Petrol  Automatic  Manual  \\\n",
       "0      Dealer       Manual      0    0       0       1          0       1   \n",
       "1      Dealer       Manual      0    0       1       0          0       1   \n",
       "2      Dealer       Manual      0    0       0       1          0       1   \n",
       "3      Dealer       Manual      0    0       0       1          0       1   \n",
       "4      Dealer       Manual      0    0       1       0          0       1   \n",
       "\n",
       "   Dealer  Individual  age  \n",
       "0       1           0  old  \n",
       "1       1           0  old  \n",
       "2       1           0  old  \n",
       "3       1           0  old  \n",
       "4       1           0  old  "
      ]
     },
     "execution_count": 8,
     "metadata": {},
     "output_type": "execute_result"
    }
   ],
   "source": [
    "# Question 2 _(3 points)\n",
    "\n",
    "#  Create a new column which captures the age of the car as 'new' or 'old'.\n",
    "#\n",
    "#  Comment: According to the dataset description, selling price is the current selling \n",
    "#           price of the used car, and present price is the price of the same car but new. \n",
    "#           It means that if the selling price is greater or equal to the present price, \n",
    "#           then probably it is a new car.\n",
    "#\n",
    "df['age'] = 'old'\n",
    "df.loc[df['Selling_Price'] >= df['Present_Price'], 'age'] = 'new'\n",
    "df.head()"
   ]
  },
  {
   "cell_type": "code",
   "execution_count": 9,
   "metadata": {},
   "outputs": [
    {
     "data": {
      "text/html": [
       "<div>\n",
       "<style scoped>\n",
       "    .dataframe tbody tr th:only-of-type {\n",
       "        vertical-align: middle;\n",
       "    }\n",
       "\n",
       "    .dataframe tbody tr th {\n",
       "        vertical-align: top;\n",
       "    }\n",
       "\n",
       "    .dataframe thead th {\n",
       "        text-align: right;\n",
       "    }\n",
       "</style>\n",
       "<table border=\"1\" class=\"dataframe\">\n",
       "  <thead>\n",
       "    <tr style=\"text-align: right;\">\n",
       "      <th></th>\n",
       "      <th>Year</th>\n",
       "      <th>Selling_Price</th>\n",
       "      <th>Present_Price</th>\n",
       "      <th>Kms_Driven</th>\n",
       "      <th>Owner</th>\n",
       "      <th>CNG</th>\n",
       "      <th>Diesel</th>\n",
       "      <th>Petrol</th>\n",
       "      <th>Automatic</th>\n",
       "      <th>Manual</th>\n",
       "      <th>Dealer</th>\n",
       "      <th>Individual</th>\n",
       "      <th>Kms_Driven_bar</th>\n",
       "      <th>Selling_Price_bar</th>\n",
       "      <th>Present_Price_bar</th>\n",
       "    </tr>\n",
       "  </thead>\n",
       "  <tbody>\n",
       "    <tr>\n",
       "      <th>count</th>\n",
       "      <td>301.000000</td>\n",
       "      <td>301.000000</td>\n",
       "      <td>301.000000</td>\n",
       "      <td>301.000000</td>\n",
       "      <td>301.000000</td>\n",
       "      <td>301.000000</td>\n",
       "      <td>301.000000</td>\n",
       "      <td>301.000000</td>\n",
       "      <td>301.000000</td>\n",
       "      <td>301.000000</td>\n",
       "      <td>301.000000</td>\n",
       "      <td>301.000000</td>\n",
       "      <td>301.000000</td>\n",
       "      <td>301.000000</td>\n",
       "      <td>301.000000</td>\n",
       "    </tr>\n",
       "    <tr>\n",
       "      <th>mean</th>\n",
       "      <td>2013.627907</td>\n",
       "      <td>4661.295681</td>\n",
       "      <td>7628.471761</td>\n",
       "      <td>36947.205980</td>\n",
       "      <td>0.043189</td>\n",
       "      <td>0.006645</td>\n",
       "      <td>0.199336</td>\n",
       "      <td>0.794020</td>\n",
       "      <td>0.132890</td>\n",
       "      <td>0.867110</td>\n",
       "      <td>0.647841</td>\n",
       "      <td>0.352159</td>\n",
       "      <td>0.072967</td>\n",
       "      <td>0.130696</td>\n",
       "      <td>0.079199</td>\n",
       "    </tr>\n",
       "    <tr>\n",
       "      <th>std</th>\n",
       "      <td>2.891554</td>\n",
       "      <td>5082.811556</td>\n",
       "      <td>8644.115402</td>\n",
       "      <td>38886.883882</td>\n",
       "      <td>0.247915</td>\n",
       "      <td>0.081378</td>\n",
       "      <td>0.400166</td>\n",
       "      <td>0.405089</td>\n",
       "      <td>0.340021</td>\n",
       "      <td>0.340021</td>\n",
       "      <td>0.478439</td>\n",
       "      <td>0.478439</td>\n",
       "      <td>0.077852</td>\n",
       "      <td>0.145639</td>\n",
       "      <td>0.093673</td>\n",
       "    </tr>\n",
       "    <tr>\n",
       "      <th>min</th>\n",
       "      <td>2003.000000</td>\n",
       "      <td>100.000000</td>\n",
       "      <td>320.000000</td>\n",
       "      <td>500.000000</td>\n",
       "      <td>0.000000</td>\n",
       "      <td>0.000000</td>\n",
       "      <td>0.000000</td>\n",
       "      <td>0.000000</td>\n",
       "      <td>0.000000</td>\n",
       "      <td>0.000000</td>\n",
       "      <td>0.000000</td>\n",
       "      <td>0.000000</td>\n",
       "      <td>0.000000</td>\n",
       "      <td>0.000000</td>\n",
       "      <td>0.000000</td>\n",
       "    </tr>\n",
       "    <tr>\n",
       "      <th>25%</th>\n",
       "      <td>2012.000000</td>\n",
       "      <td>900.000000</td>\n",
       "      <td>1200.000000</td>\n",
       "      <td>15000.000000</td>\n",
       "      <td>0.000000</td>\n",
       "      <td>0.000000</td>\n",
       "      <td>0.000000</td>\n",
       "      <td>1.000000</td>\n",
       "      <td>0.000000</td>\n",
       "      <td>1.000000</td>\n",
       "      <td>0.000000</td>\n",
       "      <td>0.000000</td>\n",
       "      <td>0.029029</td>\n",
       "      <td>0.022923</td>\n",
       "      <td>0.009536</td>\n",
       "    </tr>\n",
       "    <tr>\n",
       "      <th>50%</th>\n",
       "      <td>2014.000000</td>\n",
       "      <td>3600.000000</td>\n",
       "      <td>6400.000000</td>\n",
       "      <td>32000.000000</td>\n",
       "      <td>0.000000</td>\n",
       "      <td>0.000000</td>\n",
       "      <td>0.000000</td>\n",
       "      <td>1.000000</td>\n",
       "      <td>0.000000</td>\n",
       "      <td>1.000000</td>\n",
       "      <td>1.000000</td>\n",
       "      <td>0.000000</td>\n",
       "      <td>0.063063</td>\n",
       "      <td>0.100287</td>\n",
       "      <td>0.065886</td>\n",
       "    </tr>\n",
       "    <tr>\n",
       "      <th>75%</th>\n",
       "      <td>2016.000000</td>\n",
       "      <td>6000.000000</td>\n",
       "      <td>9900.000000</td>\n",
       "      <td>48767.000000</td>\n",
       "      <td>0.000000</td>\n",
       "      <td>0.000000</td>\n",
       "      <td>0.000000</td>\n",
       "      <td>1.000000</td>\n",
       "      <td>0.000000</td>\n",
       "      <td>1.000000</td>\n",
       "      <td>1.000000</td>\n",
       "      <td>1.000000</td>\n",
       "      <td>0.096631</td>\n",
       "      <td>0.169054</td>\n",
       "      <td>0.103814</td>\n",
       "    </tr>\n",
       "    <tr>\n",
       "      <th>max</th>\n",
       "      <td>2018.000000</td>\n",
       "      <td>35000.000000</td>\n",
       "      <td>92600.000000</td>\n",
       "      <td>500000.000000</td>\n",
       "      <td>3.000000</td>\n",
       "      <td>1.000000</td>\n",
       "      <td>1.000000</td>\n",
       "      <td>1.000000</td>\n",
       "      <td>1.000000</td>\n",
       "      <td>1.000000</td>\n",
       "      <td>1.000000</td>\n",
       "      <td>1.000000</td>\n",
       "      <td>1.000000</td>\n",
       "      <td>1.000000</td>\n",
       "      <td>1.000000</td>\n",
       "    </tr>\n",
       "  </tbody>\n",
       "</table>\n",
       "</div>"
      ],
      "text/plain": [
       "              Year  Selling_Price  Present_Price     Kms_Driven       Owner  \\\n",
       "count   301.000000     301.000000     301.000000     301.000000  301.000000   \n",
       "mean   2013.627907    4661.295681    7628.471761   36947.205980    0.043189   \n",
       "std       2.891554    5082.811556    8644.115402   38886.883882    0.247915   \n",
       "min    2003.000000     100.000000     320.000000     500.000000    0.000000   \n",
       "25%    2012.000000     900.000000    1200.000000   15000.000000    0.000000   \n",
       "50%    2014.000000    3600.000000    6400.000000   32000.000000    0.000000   \n",
       "75%    2016.000000    6000.000000    9900.000000   48767.000000    0.000000   \n",
       "max    2018.000000   35000.000000   92600.000000  500000.000000    3.000000   \n",
       "\n",
       "              CNG      Diesel      Petrol   Automatic      Manual      Dealer  \\\n",
       "count  301.000000  301.000000  301.000000  301.000000  301.000000  301.000000   \n",
       "mean     0.006645    0.199336    0.794020    0.132890    0.867110    0.647841   \n",
       "std      0.081378    0.400166    0.405089    0.340021    0.340021    0.478439   \n",
       "min      0.000000    0.000000    0.000000    0.000000    0.000000    0.000000   \n",
       "25%      0.000000    0.000000    1.000000    0.000000    1.000000    0.000000   \n",
       "50%      0.000000    0.000000    1.000000    0.000000    1.000000    1.000000   \n",
       "75%      0.000000    0.000000    1.000000    0.000000    1.000000    1.000000   \n",
       "max      1.000000    1.000000    1.000000    1.000000    1.000000    1.000000   \n",
       "\n",
       "       Individual  Kms_Driven_bar  Selling_Price_bar  Present_Price_bar  \n",
       "count  301.000000      301.000000         301.000000         301.000000  \n",
       "mean     0.352159        0.072967           0.130696           0.079199  \n",
       "std      0.478439        0.077852           0.145639           0.093673  \n",
       "min      0.000000        0.000000           0.000000           0.000000  \n",
       "25%      0.000000        0.029029           0.022923           0.009536  \n",
       "50%      0.000000        0.063063           0.100287           0.065886  \n",
       "75%      1.000000        0.096631           0.169054           0.103814  \n",
       "max      1.000000        1.000000           1.000000           1.000000  "
      ]
     },
     "execution_count": 9,
     "metadata": {},
     "output_type": "execute_result"
    }
   ],
   "source": [
    "# Question 3 _(3 points)\n",
    "\n",
    "#  Scale the Kms_Driven, Selling_Price, and Present_Price variables \n",
    "#  (i.e. ensure the variables have the same scale - thousands or tens. \n",
    "#   You can choose whichever scale you prefer).\n",
    "\n",
    "#  I have tried all different normalization methods, and the R-squared\n",
    "#  value for the model that I choose is not affected. I will explain \n",
    "#  those later. At this moment, I will try and then comment all the \n",
    "#  normalization methods:\n",
    "\n",
    "#  1. Min-Max (or range)\n",
    "#\n",
    "df['Kms_Driven_bar'] = (df['Kms_Driven'] - df['Kms_Driven'].min()) \\\n",
    "                     / (df['Kms_Driven'].max() - df['Kms_Driven'].min())\n",
    "df['Selling_Price_bar'] = (df['Selling_Price'] - df['Selling_Price'].min()) \\\n",
    "                        / (df['Selling_Price'].max() - df['Selling_Price'].min())\n",
    "df['Present_Price_bar'] = (df['Present_Price'] - df['Present_Price'].min()) \\\n",
    "                        / (df['Present_Price'].max() - df['Present_Price'].min())\n",
    "\n",
    "#  2. L2 norm (or Euclidean distance)\n",
    "#\n",
    "#df['Kms_Driven_bar'] = df['Kms_Driven'] / np.linalg.norm(df['Kms_Driven'])\n",
    "#df['Selling_Price_bar'] = df['Selling_Price'] / np.linalg.norm(df['Selling_Price'])\n",
    "#df['Present_Price_bar'] = df['Present_Price'] / np.linalg.norm(df['Present_Price'])\n",
    "\n",
    "#  3. zscore (or standardization)\n",
    "#\n",
    "#df['Kms_Driven_bar'] = (df['Kms_Driven'] - df['Kms_Driven'].mean()) \\\n",
    "#                      / df['Kms_Driven'].std()\n",
    "#df['Selling_Price_bar'] = (df['Selling_Price'] - df['Selling_Price'].mean()) \\\n",
    "#                         / df['Selling_Price'].std()\n",
    "#df['Present_Price_bar'] = (df['Present_Price'] - df['Present_Price'].mean()) \\\n",
    "#                         / df['Present_Price'].std()\n",
    "\n",
    "#  4. Do nothing (no Normalization at all)\n",
    "#\n",
    "#df['Kms_Driven_bar'] = df['Kms_Driven']\n",
    "#df['Selling_Price_bar'] = df['Selling_Price']\n",
    "#df['Present_Price_bar'] = df['Present_Price']\n",
    "\n",
    "#  I scale the original values this way (below) just to keep their value meaningful\n",
    "#\n",
    "df['Kms_Driven'] = df['Kms_Driven'] * 1\n",
    "df['Selling_Price'] = df['Selling_Price'] * 1000\n",
    "df['Present_Price'] = df['Present_Price'] * 1000\n",
    "\n",
    "df.describe()"
   ]
  },
  {
   "cell_type": "code",
   "execution_count": 10,
   "metadata": {},
   "outputs": [
    {
     "data": {
      "text/html": [
       "<div>\n",
       "<style scoped>\n",
       "    .dataframe tbody tr th:only-of-type {\n",
       "        vertical-align: middle;\n",
       "    }\n",
       "\n",
       "    .dataframe tbody tr th {\n",
       "        vertical-align: top;\n",
       "    }\n",
       "\n",
       "    .dataframe thead th {\n",
       "        text-align: right;\n",
       "    }\n",
       "</style>\n",
       "<table border=\"1\" class=\"dataframe\">\n",
       "  <thead>\n",
       "    <tr style=\"text-align: right;\">\n",
       "      <th></th>\n",
       "      <th>%</th>\n",
       "    </tr>\n",
       "    <tr>\n",
       "      <th>Car_Name</th>\n",
       "      <th></th>\n",
       "    </tr>\n",
       "  </thead>\n",
       "  <tbody>\n",
       "    <tr>\n",
       "      <th>city</th>\n",
       "      <td>8.637874</td>\n",
       "    </tr>\n",
       "    <tr>\n",
       "      <th>corolla altis</th>\n",
       "      <td>5.315615</td>\n",
       "    </tr>\n",
       "    <tr>\n",
       "      <th>verna</th>\n",
       "      <td>4.651163</td>\n",
       "    </tr>\n",
       "    <tr>\n",
       "      <th>fortuner</th>\n",
       "      <td>3.654485</td>\n",
       "    </tr>\n",
       "    <tr>\n",
       "      <th>brio</th>\n",
       "      <td>3.322259</td>\n",
       "    </tr>\n",
       "  </tbody>\n",
       "</table>\n",
       "</div>"
      ],
      "text/plain": [
       "                      %\n",
       "Car_Name               \n",
       "city           8.637874\n",
       "corolla altis  5.315615\n",
       "verna          4.651163\n",
       "fortuner       3.654485\n",
       "brio           3.322259"
      ]
     },
     "execution_count": 10,
     "metadata": {},
     "output_type": "execute_result"
    }
   ],
   "source": [
    "# Question 4 (3 points)\n",
    "\n",
    "#  Conduct exploratory analysis for the categorical variables. What are you findings?\n",
    "\n",
    "#  The categorical variables in this dataset are: \n",
    "#      Car_Name, Fuel_Type, Seller_Type, Transmission, and Owner\n",
    "\n",
    "#  I will calculate and sort the percentage of the 'Car_Name' first. \n",
    "#  'Year' can be any column other than 'Car_Name'\n",
    "#\n",
    "my_percent = df.groupby('Car_Name')['Year'].apply( lambda x: 100 * x.count() / len(df) )\n",
    "my_percent = my_percent.rename('%').sort_values(ascending=False).to_frame()\n",
    "my_percent.head()"
   ]
  },
  {
   "cell_type": "code",
   "execution_count": 11,
   "metadata": {},
   "outputs": [
    {
     "data": {
      "text/html": [
       "<div>\n",
       "<style scoped>\n",
       "    .dataframe tbody tr th:only-of-type {\n",
       "        vertical-align: middle;\n",
       "    }\n",
       "\n",
       "    .dataframe tbody tr th {\n",
       "        vertical-align: top;\n",
       "    }\n",
       "\n",
       "    .dataframe thead th {\n",
       "        text-align: right;\n",
       "    }\n",
       "</style>\n",
       "<table border=\"1\" class=\"dataframe\">\n",
       "  <thead>\n",
       "    <tr style=\"text-align: right;\">\n",
       "      <th></th>\n",
       "      <th>%</th>\n",
       "    </tr>\n",
       "    <tr>\n",
       "      <th>Car_Name</th>\n",
       "      <th></th>\n",
       "    </tr>\n",
       "  </thead>\n",
       "  <tbody>\n",
       "    <tr>\n",
       "      <th>city</th>\n",
       "      <td>8.637874</td>\n",
       "    </tr>\n",
       "    <tr>\n",
       "      <th>corolla altis</th>\n",
       "      <td>5.315615</td>\n",
       "    </tr>\n",
       "    <tr>\n",
       "      <th>verna</th>\n",
       "      <td>4.651163</td>\n",
       "    </tr>\n",
       "    <tr>\n",
       "      <th>fortuner</th>\n",
       "      <td>3.654485</td>\n",
       "    </tr>\n",
       "    <tr>\n",
       "      <th>brio</th>\n",
       "      <td>3.322259</td>\n",
       "    </tr>\n",
       "  </tbody>\n",
       "</table>\n",
       "</div>"
      ],
      "text/plain": [
       "                      %\n",
       "Car_Name               \n",
       "city           8.637874\n",
       "corolla altis  5.315615\n",
       "verna          4.651163\n",
       "fortuner       3.654485\n",
       "brio           3.322259"
      ]
     },
     "execution_count": 11,
     "metadata": {},
     "output_type": "execute_result"
    }
   ],
   "source": [
    "#  Another way to get the same percentage result (i.e. Using DataFrame instead of Series)\n",
    "#\n",
    "my_percent = df[['Car_Name']].groupby('Car_Name').apply( lambda x: 100 * x.count() / len(df) )\n",
    "my_percent = my_percent.rename(columns={'Car_Name':'%'}).sort_values(by=['%'], ascending=False)\n",
    "my_percent.head()"
   ]
  },
  {
   "cell_type": "markdown",
   "metadata": {},
   "source": [
    "Above result listed 5 most popular cars in this dataset. It shows 'City' is the most popular car, followed by 'Corolla altis'."
   ]
  },
  {
   "cell_type": "code",
   "execution_count": 12,
   "metadata": {},
   "outputs": [
    {
     "data": {
      "text/html": [
       "<div>\n",
       "<style scoped>\n",
       "    .dataframe tbody tr th:only-of-type {\n",
       "        vertical-align: middle;\n",
       "    }\n",
       "\n",
       "    .dataframe tbody tr th {\n",
       "        vertical-align: top;\n",
       "    }\n",
       "\n",
       "    .dataframe thead th {\n",
       "        text-align: right;\n",
       "    }\n",
       "</style>\n",
       "<table border=\"1\" class=\"dataframe\">\n",
       "  <thead>\n",
       "    <tr style=\"text-align: right;\">\n",
       "      <th></th>\n",
       "      <th>%</th>\n",
       "    </tr>\n",
       "    <tr>\n",
       "      <th>Fuel_Type</th>\n",
       "      <th></th>\n",
       "    </tr>\n",
       "  </thead>\n",
       "  <tbody>\n",
       "    <tr>\n",
       "      <th>Petrol</th>\n",
       "      <td>79.401993</td>\n",
       "    </tr>\n",
       "    <tr>\n",
       "      <th>Diesel</th>\n",
       "      <td>19.933555</td>\n",
       "    </tr>\n",
       "    <tr>\n",
       "      <th>CNG</th>\n",
       "      <td>0.664452</td>\n",
       "    </tr>\n",
       "  </tbody>\n",
       "</table>\n",
       "</div>"
      ],
      "text/plain": [
       "                   %\n",
       "Fuel_Type           \n",
       "Petrol     79.401993\n",
       "Diesel     19.933555\n",
       "CNG         0.664452"
      ]
     },
     "execution_count": 12,
     "metadata": {},
     "output_type": "execute_result"
    }
   ],
   "source": [
    "#  Next, do 'Fuel_Type'\n",
    "#\n",
    "my_percent = df[['Fuel_Type']].groupby('Fuel_Type').apply( lambda x: 100 * x.count() / len(df) )\n",
    "my_percent = my_percent.rename(columns={'Fuel_Type':'%'}).sort_values(by=['%'], ascending=False)\n",
    "my_percent.head()"
   ]
  },
  {
   "cell_type": "markdown",
   "metadata": {},
   "source": [
    "Above result shows that most of the cars are fueled by 'Petrol' (79.4%), followed by Diesel (19.6%). Only 0.66% of the cars in this dataset are fueled by CNG."
   ]
  },
  {
   "cell_type": "code",
   "execution_count": 13,
   "metadata": {},
   "outputs": [
    {
     "data": {
      "text/html": [
       "<div>\n",
       "<style scoped>\n",
       "    .dataframe tbody tr th:only-of-type {\n",
       "        vertical-align: middle;\n",
       "    }\n",
       "\n",
       "    .dataframe tbody tr th {\n",
       "        vertical-align: top;\n",
       "    }\n",
       "\n",
       "    .dataframe thead th {\n",
       "        text-align: right;\n",
       "    }\n",
       "</style>\n",
       "<table border=\"1\" class=\"dataframe\">\n",
       "  <thead>\n",
       "    <tr style=\"text-align: right;\">\n",
       "      <th></th>\n",
       "      <th>%</th>\n",
       "    </tr>\n",
       "    <tr>\n",
       "      <th>Transmission</th>\n",
       "      <th></th>\n",
       "    </tr>\n",
       "  </thead>\n",
       "  <tbody>\n",
       "    <tr>\n",
       "      <th>Manual</th>\n",
       "      <td>86.710963</td>\n",
       "    </tr>\n",
       "    <tr>\n",
       "      <th>Automatic</th>\n",
       "      <td>13.289037</td>\n",
       "    </tr>\n",
       "  </tbody>\n",
       "</table>\n",
       "</div>"
      ],
      "text/plain": [
       "                      %\n",
       "Transmission           \n",
       "Manual        86.710963\n",
       "Automatic     13.289037"
      ]
     },
     "execution_count": 13,
     "metadata": {},
     "output_type": "execute_result"
    }
   ],
   "source": [
    "#  Next, do 'Transmission'\n",
    "#\n",
    "my_percent = df[['Transmission']].groupby('Transmission').apply( lambda x: 100 * x.count() / len(df) )\n",
    "my_percent = my_percent.rename(columns={'Transmission':'%'}).sort_values(by=['%'], ascending=False)\n",
    "my_percent.head()"
   ]
  },
  {
   "cell_type": "markdown",
   "metadata": {},
   "source": [
    "Above result shows that most of the cars are using 'Manual' transmission (86.7%). The rest of cars are using 'Automatic' transmission (13.3%)."
   ]
  },
  {
   "cell_type": "code",
   "execution_count": 14,
   "metadata": {},
   "outputs": [
    {
     "data": {
      "text/html": [
       "<div>\n",
       "<style scoped>\n",
       "    .dataframe tbody tr th:only-of-type {\n",
       "        vertical-align: middle;\n",
       "    }\n",
       "\n",
       "    .dataframe tbody tr th {\n",
       "        vertical-align: top;\n",
       "    }\n",
       "\n",
       "    .dataframe thead th {\n",
       "        text-align: right;\n",
       "    }\n",
       "</style>\n",
       "<table border=\"1\" class=\"dataframe\">\n",
       "  <thead>\n",
       "    <tr style=\"text-align: right;\">\n",
       "      <th></th>\n",
       "      <th>%</th>\n",
       "    </tr>\n",
       "    <tr>\n",
       "      <th>Seller_Type</th>\n",
       "      <th></th>\n",
       "    </tr>\n",
       "  </thead>\n",
       "  <tbody>\n",
       "    <tr>\n",
       "      <th>Dealer</th>\n",
       "      <td>64.784053</td>\n",
       "    </tr>\n",
       "    <tr>\n",
       "      <th>Individual</th>\n",
       "      <td>35.215947</td>\n",
       "    </tr>\n",
       "  </tbody>\n",
       "</table>\n",
       "</div>"
      ],
      "text/plain": [
       "                     %\n",
       "Seller_Type           \n",
       "Dealer       64.784053\n",
       "Individual   35.215947"
      ]
     },
     "execution_count": 14,
     "metadata": {},
     "output_type": "execute_result"
    }
   ],
   "source": [
    "#  Next, do 'Seller_Type'\n",
    "#\n",
    "my_percent = df[['Seller_Type']].groupby('Seller_Type').apply( lambda x: 100 * x.count() / len(df) )\n",
    "my_percent = my_percent.rename(columns={'Seller_Type':'%'}).sort_values(by=['%'], ascending=False)\n",
    "my_percent.head()"
   ]
  },
  {
   "cell_type": "markdown",
   "metadata": {},
   "source": [
    "Above result shows that most of the cars are sold by Dealers (64.8%). The rest of cars are sold by the individual themselves."
   ]
  },
  {
   "cell_type": "code",
   "execution_count": 15,
   "metadata": {},
   "outputs": [
    {
     "data": {
      "text/html": [
       "<div>\n",
       "<style scoped>\n",
       "    .dataframe tbody tr th:only-of-type {\n",
       "        vertical-align: middle;\n",
       "    }\n",
       "\n",
       "    .dataframe tbody tr th {\n",
       "        vertical-align: top;\n",
       "    }\n",
       "\n",
       "    .dataframe thead th {\n",
       "        text-align: right;\n",
       "    }\n",
       "</style>\n",
       "<table border=\"1\" class=\"dataframe\">\n",
       "  <thead>\n",
       "    <tr style=\"text-align: right;\">\n",
       "      <th></th>\n",
       "      <th>%</th>\n",
       "    </tr>\n",
       "    <tr>\n",
       "      <th>Owner</th>\n",
       "      <th></th>\n",
       "    </tr>\n",
       "  </thead>\n",
       "  <tbody>\n",
       "    <tr>\n",
       "      <th>0</th>\n",
       "      <td>96.345515</td>\n",
       "    </tr>\n",
       "    <tr>\n",
       "      <th>1</th>\n",
       "      <td>3.322259</td>\n",
       "    </tr>\n",
       "    <tr>\n",
       "      <th>3</th>\n",
       "      <td>0.332226</td>\n",
       "    </tr>\n",
       "  </tbody>\n",
       "</table>\n",
       "</div>"
      ],
      "text/plain": [
       "               %\n",
       "Owner           \n",
       "0      96.345515\n",
       "1       3.322259\n",
       "3       0.332226"
      ]
     },
     "execution_count": 15,
     "metadata": {},
     "output_type": "execute_result"
    }
   ],
   "source": [
    "#  Next, do 'Owner'\n",
    "#\n",
    "my_percent = df[['Owner']].groupby('Owner').apply( lambda x: 100 * x.count() / len(df) )\n",
    "my_percent = my_percent.rename(columns={'Owner':'%'}).sort_values(by=['%'], ascending=False)\n",
    "my_percent.head()"
   ]
  },
  {
   "cell_type": "markdown",
   "metadata": {},
   "source": [
    "Above result shows that most of the cars are sold by the original owners (96.3%)."
   ]
  },
  {
   "cell_type": "markdown",
   "metadata": {},
   "source": [
    "The exploratory analysis for the categorical variables can actually be conducted together with the continuous variables. The box plot below shows the exploratory analysis for categorical variable 'Transmission' and the continuous variable 'Selling_Price':"
   ]
  },
  {
   "cell_type": "code",
   "execution_count": 16,
   "metadata": {},
   "outputs": [
    {
     "data": {
      "text/plain": [
       "<AxesSubplot: xlabel='Transmission', ylabel='Selling_Price'>"
      ]
     },
     "execution_count": 16,
     "metadata": {},
     "output_type": "execute_result"
    },
    {
     "data": {
      "image/png": "[encoded data removed]",
      "text/plain": [
       "<Figure size 640x480 with 1 Axes>"
      ]
     },
     "metadata": {},
     "output_type": "display_data"
    }
   ],
   "source": [
    "sns.boxplot(x='Transmission', y='Selling_Price', data=df)"
   ]
  },
  {
   "cell_type": "markdown",
   "metadata": {},
   "source": [
    "Above result tells us that the median selling price of the automatic car is higher than the median selling price of the manual car. In this dataset, there is no outlier for the selling price of the automatic car, but there are a few outliers for the selling price of the manual car."
   ]
  },
  {
   "cell_type": "code",
   "execution_count": 17,
   "metadata": {},
   "outputs": [
    {
     "data": {
      "text/plain": [
       "<AxesSubplot: xlabel='Fuel_Type', ylabel='Selling_Price'>"
      ]
     },
     "execution_count": 17,
     "metadata": {},
     "output_type": "execute_result"
    },
    {
     "data": {
      "image/png": "[encoded data removed]",
      "text/plain": [
       "<Figure size 640x480 with 1 Axes>"
      ]
     },
     "metadata": {},
     "output_type": "display_data"
    }
   ],
   "source": [
    "sns.boxplot(x='Fuel_Type', y='Selling_Price', data=df)"
   ]
  },
  {
   "cell_type": "markdown",
   "metadata": {},
   "source": [
    "Above result tells us that the median selling price of the diesel car is higher than the median selling price of the petrol car. The median selling price of the CNG car is similar to the median selling price of the petrol car. Both petrol car and diesel car have some outlier for the selling price in this dataset."
   ]
  },
  {
   "cell_type": "code",
   "execution_count": 18,
   "metadata": {},
   "outputs": [
    {
     "data": {
      "text/plain": [
       "<AxesSubplot: xlabel='Seller_Type', ylabel='Selling_Price'>"
      ]
     },
     "execution_count": 18,
     "metadata": {},
     "output_type": "execute_result"
    },
    {
     "data": {
      "image/png": "[encoded data removed]",
      "text/plain": [
       "<Figure size 640x480 with 1 Axes>"
      ]
     },
     "metadata": {},
     "output_type": "display_data"
    }
   ],
   "source": [
    "sns.boxplot(x='Seller_Type', y='Selling_Price', data=df)"
   ]
  },
  {
   "cell_type": "markdown",
   "metadata": {},
   "source": [
    "Above result tells us that the median selling price with dealer is higher than the median selling price with individual. This is so obvious because dealers will not be able to earn living if they are not capable to sell car at higher price than the individuals. Both dealer and individual have some outlier for the selling price in this dataset."
   ]
  },
  {
   "cell_type": "code",
   "execution_count": 19,
   "metadata": {},
   "outputs": [
    {
     "data": {
      "text/html": [
       "<div>\n",
       "<style scoped>\n",
       "    .dataframe tbody tr th:only-of-type {\n",
       "        vertical-align: middle;\n",
       "    }\n",
       "\n",
       "    .dataframe tbody tr th {\n",
       "        vertical-align: top;\n",
       "    }\n",
       "\n",
       "    .dataframe thead th {\n",
       "        text-align: right;\n",
       "    }\n",
       "</style>\n",
       "<table border=\"1\" class=\"dataframe\">\n",
       "  <thead>\n",
       "    <tr style=\"text-align: right;\">\n",
       "      <th></th>\n",
       "      <th>Year</th>\n",
       "      <th>Selling_Price</th>\n",
       "      <th>Present_Price</th>\n",
       "      <th>Kms_Driven</th>\n",
       "    </tr>\n",
       "  </thead>\n",
       "  <tbody>\n",
       "    <tr>\n",
       "      <th>count</th>\n",
       "      <td>301.000000</td>\n",
       "      <td>301.000000</td>\n",
       "      <td>301.000000</td>\n",
       "      <td>301.000000</td>\n",
       "    </tr>\n",
       "    <tr>\n",
       "      <th>mean</th>\n",
       "      <td>2013.627907</td>\n",
       "      <td>4661.295681</td>\n",
       "      <td>7628.471761</td>\n",
       "      <td>36947.205980</td>\n",
       "    </tr>\n",
       "    <tr>\n",
       "      <th>std</th>\n",
       "      <td>2.891554</td>\n",
       "      <td>5082.811556</td>\n",
       "      <td>8644.115402</td>\n",
       "      <td>38886.883882</td>\n",
       "    </tr>\n",
       "    <tr>\n",
       "      <th>min</th>\n",
       "      <td>2003.000000</td>\n",
       "      <td>100.000000</td>\n",
       "      <td>320.000000</td>\n",
       "      <td>500.000000</td>\n",
       "    </tr>\n",
       "    <tr>\n",
       "      <th>25%</th>\n",
       "      <td>2012.000000</td>\n",
       "      <td>900.000000</td>\n",
       "      <td>1200.000000</td>\n",
       "      <td>15000.000000</td>\n",
       "    </tr>\n",
       "    <tr>\n",
       "      <th>50%</th>\n",
       "      <td>2014.000000</td>\n",
       "      <td>3600.000000</td>\n",
       "      <td>6400.000000</td>\n",
       "      <td>32000.000000</td>\n",
       "    </tr>\n",
       "    <tr>\n",
       "      <th>75%</th>\n",
       "      <td>2016.000000</td>\n",
       "      <td>6000.000000</td>\n",
       "      <td>9900.000000</td>\n",
       "      <td>48767.000000</td>\n",
       "    </tr>\n",
       "    <tr>\n",
       "      <th>max</th>\n",
       "      <td>2018.000000</td>\n",
       "      <td>35000.000000</td>\n",
       "      <td>92600.000000</td>\n",
       "      <td>500000.000000</td>\n",
       "    </tr>\n",
       "  </tbody>\n",
       "</table>\n",
       "</div>"
      ],
      "text/plain": [
       "              Year  Selling_Price  Present_Price     Kms_Driven\n",
       "count   301.000000     301.000000     301.000000     301.000000\n",
       "mean   2013.627907    4661.295681    7628.471761   36947.205980\n",
       "std       2.891554    5082.811556    8644.115402   38886.883882\n",
       "min    2003.000000     100.000000     320.000000     500.000000\n",
       "25%    2012.000000     900.000000    1200.000000   15000.000000\n",
       "50%    2014.000000    3600.000000    6400.000000   32000.000000\n",
       "75%    2016.000000    6000.000000    9900.000000   48767.000000\n",
       "max    2018.000000   35000.000000   92600.000000  500000.000000"
      ]
     },
     "execution_count": 19,
     "metadata": {},
     "output_type": "execute_result"
    }
   ],
   "source": [
    "# Question 5 (10 points)\n",
    "\n",
    "#  Conduct exploratory analysis for the continuous variables. Ensure you review \n",
    "#  each variable by itself, and in combination with the other variables \n",
    "#  to identify insights and trends. What are your findings?\n",
    "\n",
    "#  The continuous variables in this dataset are:\n",
    "#\n",
    "field_list = ['Year', 'Selling_Price', 'Present_Price', 'Kms_Driven']\n",
    "\n",
    "data = []\n",
    "\n",
    "for field in field_list:\n",
    "    data.append(df[field])\n",
    "\n",
    "#  First take a look at the statistics summary\n",
    "#\n",
    "df[field_list].describe()"
   ]
  },
  {
   "cell_type": "markdown",
   "metadata": {},
   "source": [
    "Statistics summary tells us that those are all old cars from year 2003 to year 2018 with an average of 2013.627907. Fifty percent of those cars were built in between year 2012 and year 2016 with a median of 2014.\n",
    "\n",
    "From the percentile, we can also tell that more cars were built in last 6 years (2012-2018) then first 9 years (2003-2012), so the data is pretty much very skewed.\n",
    "\n",
    "Similar phenomena also happen to the rest of the continuous variables. In order to know better, I will plot the histogram for all those continuous variables:"
   ]
  },
  {
   "cell_type": "code",
   "execution_count": 20,
   "metadata": {},
   "outputs": [
    {
     "data": {
      "image/png": "[encoded data removed]",
      "text/plain": [
       "<Figure size 1000x500 with 4 Axes>"
      ]
     },
     "metadata": {},
     "output_type": "display_data"
    }
   ],
   "source": [
    "fig, [[ax1, ax2], [ax3, ax4]] = plt.subplots(2, 2, figsize = [10,5]);\n",
    "all_ax = [ax1, ax2, ax3, ax4];\n",
    "idx = 0;\n",
    "\n",
    "for field in field_list:\n",
    "    data[idx].hist(ax=all_ax[idx], legend=True, grid=False, bins=30);\n",
    "    idx += 1;"
   ]
  },
  {
   "cell_type": "markdown",
   "metadata": {},
   "source": [
    "Box plot displays the quartiles and whiskers, which is another way to show the spread and skewness of the numerical data:"
   ]
  },
  {
   "cell_type": "code",
   "execution_count": 21,
   "metadata": {},
   "outputs": [
    {
     "data": {
      "image/png": "[encoded data removed]",
      "text/plain": [
       "<Figure size 1000x700 with 4 Axes>"
      ]
     },
     "metadata": {},
     "output_type": "display_data"
    }
   ],
   "source": [
    "fig, [ax1, ax2, ax3, ax4] = plt.subplots(4, 1, figsize = [10,7]);\n",
    "all_ax = [ax1, ax2, ax3, ax4];\n",
    "idx = 0;\n",
    "\n",
    "for field in field_list:\n",
    "    df[[field]].boxplot(ax=all_ax[idx], vert=False)\n",
    "    idx += 1;"
   ]
  },
  {
   "cell_type": "markdown",
   "metadata": {},
   "source": [
    "The separate dots beyond the whiskers are the outliers. For example, the 3 dots (actually 7 data points) before year 2006 are the outliers for the 'Year' variable. The 7 dots (actually 8 data points) after 100K km are the outliers for 'Kms_Driven' variable. Similar phenomena also happen to the 'Selling_Price' and 'Present_Price' variables.\n",
    "\n",
    "Besides reviewing each variable by itself, we can also combine those variables to identify insights and trends."
   ]
  },
  {
   "cell_type": "code",
   "execution_count": 22,
   "metadata": {},
   "outputs": [
    {
     "data": {
      "image/png": "[encoded data removed]",
      "text/plain": [
       "<Figure size 500x500 with 1 Axes>"
      ]
     },
     "metadata": {},
     "output_type": "display_data"
    }
   ],
   "source": [
    "#  First let's take a look at the combination of 'Selling_Price' variable \n",
    "#  and 'Kms_Driven' variable\n",
    "#\n",
    "fig, ax = plt.subplots(figsize = [5,5]);\n",
    "df[df['Year']>=2014].plot(ax=ax, kind='scatter', label='2014 and beyond', \n",
    "                          x='Kms_Driven_bar', y='Selling_Price_bar', c='g');\n",
    "df[df['Year']<2014].plot(ax=ax, kind='scatter', label='Before 2014', \n",
    "                         x='Kms_Driven_bar', y='Selling_Price_bar', c='r');"
   ]
  },
  {
   "cell_type": "markdown",
   "metadata": {},
   "source": [
    "From the plot above, we noticed that instead of 'Kms_Driven' variable the 'Year' variable has more influence to the 'Selling_Price' variable. Therefore, I decided to combine the 'Year' variable with the 'Selling_Price' variable to see if we can identify any trend:"
   ]
  },
  {
   "cell_type": "code",
   "execution_count": 23,
   "metadata": {},
   "outputs": [
    {
     "data": {
      "image/png": "[encoded data removed]",
      "text/plain": [
       "<Figure size 1000x500 with 1 Axes>"
      ]
     },
     "metadata": {},
     "output_type": "display_data"
    }
   ],
   "source": [
    "fig, ax = plt.subplots(figsize = [10,5]);\n",
    "df.plot(ax=ax, kind='scatter', x='Year', y='Selling_Price_bar');"
   ]
  },
  {
   "cell_type": "markdown",
   "metadata": {},
   "source": [
    "As is expected, the above plot clearly tells us that: \"The older the car, the cheaper the selling price\". Since the 'Year' variable in our dataset is by year, the data points in this scatter plot are also clustered by year. I am going to use the yearly mean value to create a fit curve to monitor the trend. We also noticed that the 35K selling price in year 2010 is an obvious outlier, so I am going to remove it before I generate the fit curve:"
   ]
  },
  {
   "cell_type": "code",
   "execution_count": 24,
   "metadata": {},
   "outputs": [
    {
     "data": {
      "image/png": "[encoded data removed]",
      "text/plain": [
       "<Figure size 1000x500 with 1 Axes>"
      ]
     },
     "metadata": {},
     "output_type": "display_data"
    }
   ],
   "source": [
    "#  Before removing outliers, let's keep a copy of the version with outliers kept\n",
    "#  .copy() must be used to copy by value, not by reference (or pointer)\n",
    "#\n",
    "df_with_outlier = df.copy()\n",
    "\n",
    "#  Remove the outlier 2010 (35K) for normalized selling price\n",
    "#  Do this first so we can still use selling price to index next\n",
    "#\n",
    "df.loc[(df['Selling_Price']==35000) & (df['Year']==2010),'Selling_Price_bar'] = \\\n",
    "    df.loc[(df['Selling_Price']!=35000) | (df['Year']!=2010),'Selling_Price_bar'].median()\n",
    "\n",
    "#  Remove the outlier 2010 (35K) for selling price\n",
    "#\n",
    "df.loc[(df['Selling_Price']==35000) & (df['Year']==2010),'Selling_Price'] = \\\n",
    "    df.loc[(df['Selling_Price']!=35000) | (df['Year']!=2010),'Selling_Price'].median();\n",
    "\n",
    "#  Bring 'Year' back to column, and try to draw a fit line of the yearly mean value\n",
    "#\n",
    "df_mean = df[['Year','Selling_Price_bar']].groupby(['Year']).mean().reset_index();\n",
    "\n",
    "#  Regression coefficient for the fit line of the yearly mean value\n",
    "#\n",
    "coeff = np.polyfit(df_mean['Year'], df_mean['Selling_Price_bar'], 3);\n",
    "fit_curve_x = np.linspace(2003, 2019, 50);\n",
    "fit_curve_y = np.polyval(coeff, fit_curve_x);\n",
    "\n",
    "#  Plot again with fit line and outlier removed\n",
    "#\n",
    "fig, ax = plt.subplots(figsize = [10,5]);\n",
    "df.plot(ax=ax, kind='scatter', x='Year', y='Selling_Price_bar');\n",
    "ax.plot(fit_curve_x, fit_curve_y, c='r');"
   ]
  },
  {
   "cell_type": "markdown",
   "metadata": {},
   "source": [
    "Now, let's also take a look at the combination between 'Year' variable and the 'Present_Price' variable. Since the obvious outlier for present price in 2010 (92.6K) affects the display, I removed it before the plot is displayed below:"
   ]
  },
  {
   "cell_type": "code",
   "execution_count": 25,
   "metadata": {},
   "outputs": [
    {
     "data": {
      "image/png": "[encoded data removed]",
      "text/plain": [
       "<Figure size 1000x500 with 1 Axes>"
      ]
     },
     "metadata": {},
     "output_type": "display_data"
    }
   ],
   "source": [
    "#  Remove the outlier 2010 (92.6K) for normalized present price\n",
    "#  Do this first so we can still use selling price to index next\n",
    "#\n",
    "df.loc[(df['Present_Price']==92600) & (df['Year']==2010),'Present_Price_bar'] = \\\n",
    "    df.loc[(df['Present_Price']!=92600) | (df['Year']!=2010),'Present_Price_bar'].median()\n",
    "\n",
    "#  Remove the outlier 2010 (92.6K) for present price\n",
    "#\n",
    "df.loc[(df['Present_Price']==92600) & (df['Year']==2010),'Present_Price'] = \\\n",
    "    df.loc[(df['Present_Price']!=92600) | (df['Year']!=2010),'Present_Price'].median();\n",
    "\n",
    "fig, ax = plt.subplots(figsize = [10,5]);\n",
    "df.plot(ax=ax, kind='scatter', x='Year', y='Present_Price_bar');"
   ]
  },
  {
   "cell_type": "markdown",
   "metadata": {},
   "source": [
    "Above plot tells us that the present price is not as much affected by the \"Year\" variable as the selling price does. Will the present price for the same kind car affect the selling price? Let's find out:"
   ]
  },
  {
   "cell_type": "code",
   "execution_count": 26,
   "metadata": {},
   "outputs": [
    {
     "data": {
      "image/png": "[encoded data removed]",
      "text/plain": [
       "<Figure size 500x500 with 1 Axes>"
      ]
     },
     "metadata": {},
     "output_type": "display_data"
    }
   ],
   "source": [
    "fig, ax = plt.subplots(figsize = [5,5]);\n",
    "df.plot(ax=ax, kind='scatter', x='Present_Price', y='Selling_Price');"
   ]
  },
  {
   "cell_type": "markdown",
   "metadata": {},
   "source": [
    "From the plot above, we noticed that all dots are located at lower right triangle, and most dots are close to (and below) the diagnoal line. This means that although the selling prices are kind of related to the present prices, they are all less than the present price. This is so obvious, because no one will buy an old car at a higher price. Finally, let's take a look at how \"Kms_Driven\" variable is affected by \"Year\" variable. Theoretically, \"The older the car, the more the kms is driven\". Let's take a look:"
   ]
  },
  {
   "cell_type": "code",
   "execution_count": 27,
   "metadata": {},
   "outputs": [
    {
     "data": {
      "image/png": "[encoded data removed]",
      "text/plain": [
       "<Figure size 1000x500 with 1 Axes>"
      ]
     },
     "metadata": {},
     "output_type": "display_data"
    }
   ],
   "source": [
    "fig, ax = plt.subplots(figsize = [10,5]);\n",
    "df.plot(ax=ax, kind='scatter', x='Year', y='Kms_Driven_bar');"
   ]
  },
  {
   "cell_type": "markdown",
   "metadata": {},
   "source": [
    "From the above plot, I noticed that the result is \"Kms_Driven\" to \"Year\" relationship is not as simple as \"The older the car, the more the kms is driven\". For cars 2013 and beyond (less than 10 years old), it seems to be true that \"The older the car, the more the kms is driven\". However, for very old car (more than 10 years old, or cars earlier than 2013), the \"Kms_Driven\" are relatively high, but seems not as much affected by the \"Year\" variable as those less than 10 years old cars do. Here's what I guess (may not be true): Those very old cars have almost reached their life expectancy (around 100K km or more), and probably some expensive major parts need to be replaced. Therefore, the owners decided to not drive them any more (so Kms_Driven stay at that level), and they decided to sell them."
   ]
  },
  {
   "cell_type": "code",
   "execution_count": 28,
   "metadata": {},
   "outputs": [],
   "source": [
    "# Question 6 (1 point)\n",
    "\n",
    "#  Based on the insights identified, state a hypothesis which you can test with a regression model."
   ]
  },
  {
   "cell_type": "markdown",
   "metadata": {},
   "source": [
    "If the value of independent variable 'Year' decreases or the value of independent variable 'Present_Price' drops, then the value of dependent variable 'Selling_Price' will drop."
   ]
  },
  {
   "cell_type": "code",
   "execution_count": 29,
   "metadata": {},
   "outputs": [],
   "source": [
    "# Question 7 (5 points)\n",
    "\n",
    "#  Build a linear regression model based on your hypothesis. Interpret the results."
   ]
  },
  {
   "cell_type": "markdown",
   "metadata": {},
   "source": [
    "I am going to apply the ordinary linear regression model from Statiticss Model API to my hypothesis. The selling price is what we are going to predicted, so assign it to the response vector Y. The 'Present_Price' and 'Year' are the predictors. Together with the constant for intercept, we can create the design matrix X:"
   ]
  },
  {
   "cell_type": "code",
   "execution_count": 30,
   "metadata": {},
   "outputs": [
    {
     "data": {
      "text/html": [
       "<div>\n",
       "<style scoped>\n",
       "    .dataframe tbody tr th:only-of-type {\n",
       "        vertical-align: middle;\n",
       "    }\n",
       "\n",
       "    .dataframe tbody tr th {\n",
       "        vertical-align: top;\n",
       "    }\n",
       "\n",
       "    .dataframe thead th {\n",
       "        text-align: right;\n",
       "    }\n",
       "</style>\n",
       "<table border=\"1\" class=\"dataframe\">\n",
       "  <thead>\n",
       "    <tr style=\"text-align: right;\">\n",
       "      <th></th>\n",
       "      <th>Selling_Price_bar</th>\n",
       "    </tr>\n",
       "  </thead>\n",
       "  <tbody>\n",
       "    <tr>\n",
       "      <th>0</th>\n",
       "      <td>0.093123</td>\n",
       "    </tr>\n",
       "    <tr>\n",
       "      <th>1</th>\n",
       "      <td>0.133238</td>\n",
       "    </tr>\n",
       "    <tr>\n",
       "      <th>2</th>\n",
       "      <td>0.204871</td>\n",
       "    </tr>\n",
       "    <tr>\n",
       "      <th>3</th>\n",
       "      <td>0.078797</td>\n",
       "    </tr>\n",
       "    <tr>\n",
       "      <th>4</th>\n",
       "      <td>0.128940</td>\n",
       "    </tr>\n",
       "    <tr>\n",
       "      <th>...</th>\n",
       "      <td>...</td>\n",
       "    </tr>\n",
       "    <tr>\n",
       "      <th>296</th>\n",
       "      <td>0.269341</td>\n",
       "    </tr>\n",
       "    <tr>\n",
       "      <th>297</th>\n",
       "      <td>0.111748</td>\n",
       "    </tr>\n",
       "    <tr>\n",
       "      <th>298</th>\n",
       "      <td>0.093123</td>\n",
       "    </tr>\n",
       "    <tr>\n",
       "      <th>299</th>\n",
       "      <td>0.326648</td>\n",
       "    </tr>\n",
       "    <tr>\n",
       "      <th>300</th>\n",
       "      <td>0.148997</td>\n",
       "    </tr>\n",
       "  </tbody>\n",
       "</table>\n",
       "<p>301 rows × 1 columns</p>\n",
       "</div>"
      ],
      "text/plain": [
       "     Selling_Price_bar\n",
       "0             0.093123\n",
       "1             0.133238\n",
       "2             0.204871\n",
       "3             0.078797\n",
       "4             0.128940\n",
       "..                 ...\n",
       "296           0.269341\n",
       "297           0.111748\n",
       "298           0.093123\n",
       "299           0.326648\n",
       "300           0.148997\n",
       "\n",
       "[301 rows x 1 columns]"
      ]
     },
     "execution_count": 30,
     "metadata": {},
     "output_type": "execute_result"
    }
   ],
   "source": [
    "Y = df['Selling_Price_bar']\n",
    "X = df[['Year','Present_Price_bar']]\n",
    "X = sm.add_constant(X)\n",
    "Y.to_frame()"
   ]
  },
  {
   "cell_type": "code",
   "execution_count": 31,
   "metadata": {},
   "outputs": [
    {
     "data": {
      "text/html": [
       "<div>\n",
       "<style scoped>\n",
       "    .dataframe tbody tr th:only-of-type {\n",
       "        vertical-align: middle;\n",
       "    }\n",
       "\n",
       "    .dataframe tbody tr th {\n",
       "        vertical-align: top;\n",
       "    }\n",
       "\n",
       "    .dataframe thead th {\n",
       "        text-align: right;\n",
       "    }\n",
       "</style>\n",
       "<table border=\"1\" class=\"dataframe\">\n",
       "  <thead>\n",
       "    <tr style=\"text-align: right;\">\n",
       "      <th></th>\n",
       "      <th>const</th>\n",
       "      <th>Year</th>\n",
       "      <th>Present_Price_bar</th>\n",
       "    </tr>\n",
       "  </thead>\n",
       "  <tbody>\n",
       "    <tr>\n",
       "      <th>0</th>\n",
       "      <td>1.0</td>\n",
       "      <td>2014</td>\n",
       "      <td>0.057109</td>\n",
       "    </tr>\n",
       "    <tr>\n",
       "      <th>1</th>\n",
       "      <td>1.0</td>\n",
       "      <td>2013</td>\n",
       "      <td>0.099913</td>\n",
       "    </tr>\n",
       "    <tr>\n",
       "      <th>2</th>\n",
       "      <td>1.0</td>\n",
       "      <td>2017</td>\n",
       "      <td>0.103273</td>\n",
       "    </tr>\n",
       "    <tr>\n",
       "      <th>3</th>\n",
       "      <td>1.0</td>\n",
       "      <td>2011</td>\n",
       "      <td>0.041504</td>\n",
       "    </tr>\n",
       "    <tr>\n",
       "      <th>4</th>\n",
       "      <td>1.0</td>\n",
       "      <td>2014</td>\n",
       "      <td>0.070980</td>\n",
       "    </tr>\n",
       "    <tr>\n",
       "      <th>...</th>\n",
       "      <td>...</td>\n",
       "      <td>...</td>\n",
       "      <td>...</td>\n",
       "    </tr>\n",
       "    <tr>\n",
       "      <th>296</th>\n",
       "      <td>1.0</td>\n",
       "      <td>2016</td>\n",
       "      <td>0.122237</td>\n",
       "    </tr>\n",
       "    <tr>\n",
       "      <th>297</th>\n",
       "      <td>1.0</td>\n",
       "      <td>2015</td>\n",
       "      <td>0.060468</td>\n",
       "    </tr>\n",
       "    <tr>\n",
       "      <th>298</th>\n",
       "      <td>1.0</td>\n",
       "      <td>2009</td>\n",
       "      <td>0.115735</td>\n",
       "    </tr>\n",
       "    <tr>\n",
       "      <th>299</th>\n",
       "      <td>1.0</td>\n",
       "      <td>2017</td>\n",
       "      <td>0.131990</td>\n",
       "    </tr>\n",
       "    <tr>\n",
       "      <th>300</th>\n",
       "      <td>1.0</td>\n",
       "      <td>2016</td>\n",
       "      <td>0.060468</td>\n",
       "    </tr>\n",
       "  </tbody>\n",
       "</table>\n",
       "<p>301 rows × 3 columns</p>\n",
       "</div>"
      ],
      "text/plain": [
       "     const  Year  Present_Price_bar\n",
       "0      1.0  2014           0.057109\n",
       "1      1.0  2013           0.099913\n",
       "2      1.0  2017           0.103273\n",
       "3      1.0  2011           0.041504\n",
       "4      1.0  2014           0.070980\n",
       "..     ...   ...                ...\n",
       "296    1.0  2016           0.122237\n",
       "297    1.0  2015           0.060468\n",
       "298    1.0  2009           0.115735\n",
       "299    1.0  2017           0.131990\n",
       "300    1.0  2016           0.060468\n",
       "\n",
       "[301 rows x 3 columns]"
      ]
     },
     "execution_count": 31,
     "metadata": {},
     "output_type": "execute_result"
    }
   ],
   "source": [
    "X"
   ]
  },
  {
   "cell_type": "code",
   "execution_count": 32,
   "metadata": {},
   "outputs": [
    {
     "data": {
      "text/html": [
       "<table class=\"simpletable\">\n",
       "<caption>OLS Regression Results</caption>\n",
       "<tr>\n",
       "  <th>Dep. Variable:</th>    <td>Selling_Price_bar</td> <th>  R-squared:         </th> <td>   0.863</td> \n",
       "</tr>\n",
       "<tr>\n",
       "  <th>Model:</th>                   <td>OLS</td>        <th>  Adj. R-squared:    </th> <td>   0.862</td> \n",
       "</tr>\n",
       "<tr>\n",
       "  <th>Method:</th>             <td>Least Squares</td>   <th>  F-statistic:       </th> <td>   941.4</td> \n",
       "</tr>\n",
       "<tr>\n",
       "  <th>Date:</th>             <td>Sun, 05 Mar 2023</td>  <th>  Prob (F-statistic):</th> <td>1.60e-129</td>\n",
       "</tr>\n",
       "<tr>\n",
       "  <th>Time:</th>                 <td>02:21:36</td>      <th>  Log-Likelihood:    </th> <td>  471.94</td> \n",
       "</tr>\n",
       "<tr>\n",
       "  <th>No. Observations:</th>      <td>   301</td>       <th>  AIC:               </th> <td>  -937.9</td> \n",
       "</tr>\n",
       "<tr>\n",
       "  <th>Df Residuals:</th>          <td>   298</td>       <th>  BIC:               </th> <td>  -926.8</td> \n",
       "</tr>\n",
       "<tr>\n",
       "  <th>Df Model:</th>              <td>     2</td>       <th>                     </th>     <td> </td>    \n",
       "</tr>\n",
       "<tr>\n",
       "  <th>Covariance Type:</th>      <td>nonrobust</td>     <th>                     </th>     <td> </td>    \n",
       "</tr>\n",
       "</table>\n",
       "<table class=\"simpletable\">\n",
       "<tr>\n",
       "          <td></td>             <th>coef</th>     <th>std err</th>      <th>t</th>      <th>P>|t|</th>  <th>[0.025</th>    <th>0.975]</th>  \n",
       "</tr>\n",
       "<tr>\n",
       "  <th>const</th>             <td>  -27.1610</td> <td>    2.039</td> <td>  -13.324</td> <td> 0.000</td> <td>  -31.173</td> <td>  -23.149</td>\n",
       "</tr>\n",
       "<tr>\n",
       "  <th>Year</th>              <td>    0.0135</td> <td>    0.001</td> <td>   13.328</td> <td> 0.000</td> <td>    0.012</td> <td>    0.015</td>\n",
       "</tr>\n",
       "<tr>\n",
       "  <th>Present_Price_bar</th> <td>    1.5720</td> <td>    0.038</td> <td>   41.387</td> <td> 0.000</td> <td>    1.497</td> <td>    1.647</td>\n",
       "</tr>\n",
       "</table>\n",
       "<table class=\"simpletable\">\n",
       "<tr>\n",
       "  <th>Omnibus:</th>       <td>47.332</td> <th>  Durbin-Watson:     </th> <td>   1.775</td> \n",
       "</tr>\n",
       "<tr>\n",
       "  <th>Prob(Omnibus):</th> <td> 0.000</td> <th>  Jarque-Bera (JB):  </th> <td> 459.172</td> \n",
       "</tr>\n",
       "<tr>\n",
       "  <th>Skew:</th>          <td> 0.065</td> <th>  Prob(JB):          </th> <td>1.96e-100</td>\n",
       "</tr>\n",
       "<tr>\n",
       "  <th>Kurtosis:</th>      <td> 9.049</td> <th>  Cond. No.          </th> <td>1.40e+06</td> \n",
       "</tr>\n",
       "</table><br/><br/>Notes:<br/>[1] Standard Errors assume that the covariance matrix of the errors is correctly specified.<br/>[2] The condition number is large, 1.4e+06. This might indicate that there are<br/>strong multicollinearity or other numerical problems."
      ],
      "text/plain": [
       "<class 'statsmodels.iolib.summary.Summary'>\n",
       "\"\"\"\n",
       "                            OLS Regression Results                            \n",
       "==============================================================================\n",
       "Dep. Variable:      Selling_Price_bar   R-squared:                       0.863\n",
       "Model:                            OLS   Adj. R-squared:                  0.862\n",
       "Method:                 Least Squares   F-statistic:                     941.4\n",
       "Date:                Sun, 05 Mar 2023   Prob (F-statistic):          1.60e-129\n",
       "Time:                        02:21:36   Log-Likelihood:                 471.94\n",
       "No. Observations:                 301   AIC:                            -937.9\n",
       "Df Residuals:                     298   BIC:                            -926.8\n",
       "Df Model:                           2                                         \n",
       "Covariance Type:            nonrobust                                         \n",
       "=====================================================================================\n",
       "                        coef    std err          t      P>|t|      [0.025      0.975]\n",
       "-------------------------------------------------------------------------------------\n",
       "const               -27.1610      2.039    -13.324      0.000     -31.173     -23.149\n",
       "Year                  0.0135      0.001     13.328      0.000       0.012       0.015\n",
       "Present_Price_bar     1.5720      0.038     41.387      0.000       1.497       1.647\n",
       "==============================================================================\n",
       "Omnibus:                       47.332   Durbin-Watson:                   1.775\n",
       "Prob(Omnibus):                  0.000   Jarque-Bera (JB):              459.172\n",
       "Skew:                           0.065   Prob(JB):                    1.96e-100\n",
       "Kurtosis:                       9.049   Cond. No.                     1.40e+06\n",
       "==============================================================================\n",
       "\n",
       "Notes:\n",
       "[1] Standard Errors assume that the covariance matrix of the errors is correctly specified.\n",
       "[2] The condition number is large, 1.4e+06. This might indicate that there are\n",
       "strong multicollinearity or other numerical problems.\n",
       "\"\"\""
      ]
     },
     "execution_count": 32,
     "metadata": {},
     "output_type": "execute_result"
    }
   ],
   "source": [
    "#  Apply the ordinary linear regression model from Statiticss Model API to the design matrix X\n",
    "#  and response vector Y. Find the fit result with estimators.\n",
    "#\n",
    "ols_model = sm.OLS( Y, X )\n",
    "ols_result = ols_model.fit()\n",
    "ols_result.summary()"
   ]
  },
  {
   "cell_type": "markdown",
   "metadata": {},
   "source": [
    "As We can see, the R-squared value 0.86 is not that bad. It means that this model can explain outcomes. In other words, we can use the 'Year' variable and 'Present_Price' variable to predict the 'Selling_Price'. In addition, the P-Value 1.60e-129 is very close to 0. It means that this model is statistically significant. In other words, the selling price that we predicted from the independent variables 'Year' and 'Present_Price' is not purely by chance. Below I am going to add another column in the DataFrame for the predicted selling price, and I call it variable 'Selling_Price_hat':"
   ]
  },
  {
   "cell_type": "code",
   "execution_count": 33,
   "metadata": {},
   "outputs": [],
   "source": [
    "df['Selling_Price_hat'] = ols_result.predict(X)     # use result model to predict input variables\n",
    "df['Selling_Price_hat'] = ols_result.fittedvalues   # use fittedvalues to get same result for X"
   ]
  },
  {
   "cell_type": "markdown",
   "metadata": {},
   "source": [
    "Now let's visualize the difference between the predicted selling price 'Selling_Price_hat' and the measured selling price 'Selling_Price'. In the scattered plot below, red stands for the predicted selling price, and green stands for the measured selling price:"
   ]
  },
  {
   "cell_type": "code",
   "execution_count": 34,
   "metadata": {},
   "outputs": [
    {
     "data": {
      "image/png": "[encoded data removed]",
      "text/plain": [
       "<Figure size 1000x500 with 1 Axes>"
      ]
     },
     "metadata": {},
     "output_type": "display_data"
    }
   ],
   "source": [
    "fig, ax = plt.subplots(figsize = [10,5]);\n",
    "df.plot(ax=ax, kind='scatter', x='Year', y='Selling_Price_bar', c='g', \n",
    "        label='Measured selling price');\n",
    "df.plot(ax=ax, kind='scatter', x='Year', y='Selling_Price_hat', c='r',\n",
    "        label='Predicted selling price');\n",
    "ax.set_ylabel('');"
   ]
  },
  {
   "cell_type": "code",
   "execution_count": 35,
   "metadata": {},
   "outputs": [
    {
     "name": "stdout",
     "output_type": "stream",
     "text": [
      "R-squared:  0.8500511302128501\n",
      "Prob (F-statistic):  1.6426169763291208e-123\n"
     ]
    }
   ],
   "source": [
    "#  Question 8 (2 points)\n",
    "\n",
    "# How could you make your model better? \n",
    "# Is there data that you think would be helpful to achieve a higherd R2 value?\n",
    "\n",
    "#  Let's compare the result with outlier kept\n",
    "#\n",
    "Y = df_with_outlier['Selling_Price_bar']\n",
    "X = df_with_outlier[['Year','Present_Price_bar']]\n",
    "X = sm.add_constant(X) \n",
    "ols_model = sm.OLS( Y, X )\n",
    "ols_result = ols_model.fit()\n",
    "print('R-squared: ', ols_result.rsquared)\n",
    "print('Prob (F-statistic): ', ols_result.f_pvalue)"
   ]
  },
  {
   "cell_type": "markdown",
   "metadata": {},
   "source": [
    "As you can see above, the R-squared value decreased once I include the outlier.\n",
    "\n",
    "Now let's still use the dataset with outlier removed, and include the dummy variables that we created before:"
   ]
  },
  {
   "cell_type": "code",
   "execution_count": 36,
   "metadata": {},
   "outputs": [
    {
     "name": "stdout",
     "output_type": "stream",
     "text": [
      "R-squared:  0.8763655993615166\n",
      "Prob (F-statistic):  2.9723350591952037e-130\n"
     ]
    }
   ],
   "source": [
    "Y = df['Selling_Price_bar']\n",
    "X = df[['Year','Present_Price_bar', 'CNG', 'Diesel', 'Petrol', 'Automatic', 'Manual', 'Dealer', 'Individual']]\n",
    "X = sm.add_constant(X) \n",
    "ols_model = sm.OLS( Y, X )\n",
    "ols_result = ols_model.fit()\n",
    "print('R-squared: ', ols_result.rsquared)\n",
    "print('Prob (F-statistic): ', ols_result.f_pvalue)"
   ]
  },
  {
   "cell_type": "markdown",
   "metadata": {},
   "source": [
    "Once I included the dummy variables for the Fuel_Type, Transmission and Seller_Type variables, I noticed that the R2 value increased more than 1.5%, and the P-Value becomes even smaller! Therefore, those dummy variables are helpful to achieve a higherd R2 value and smaller P-Value.\n",
    "\n",
    "Let's include the outlier again:"
   ]
  },
  {
   "cell_type": "code",
   "execution_count": 37,
   "metadata": {},
   "outputs": [
    {
     "name": "stdout",
     "output_type": "stream",
     "text": [
      "R-squared:  0.8796590108622973\n",
      "Prob (F-statistic):  5.65777107825866e-132\n"
     ]
    }
   ],
   "source": [
    "Y = df_with_outlier['Selling_Price_bar']\n",
    "X = df_with_outlier[['Year','Present_Price_bar', 'CNG', 'Diesel', 'Petrol', 'Automatic', 'Manual', 'Dealer', 'Individual']]\n",
    "X = sm.add_constant(X) \n",
    "ols_model = sm.OLS( Y, X )\n",
    "ols_result = ols_model.fit()\n",
    "print('R-squared: ', ols_result.rsquared)\n",
    "print('Prob (F-statistic): ', ols_result.f_pvalue)"
   ]
  },
  {
   "cell_type": "markdown",
   "metadata": {},
   "source": [
    "As you can see above, we achieved an even higher R-squared value once I include the outlier. This probably means that the outliers have strong relations with those dummy variables."
   ]
  },
  {
   "cell_type": "markdown",
   "metadata": {},
   "source": [
    "Finally, I would say that the normalization has no impact to this linear regression model.\n",
    "\n",
    "Although I don't know the reason, but I have tried 4 different types of normalization methods:\n",
    "\n",
    "1. Min-Max method that we were taught on the course;\n",
    "2. Normalized by L2 norm or Euclidean distance;\n",
    "3. Standardization method (i.e. zscore)\n",
    "4. Do nothing (using value from original data points as is)\n",
    "\n",
    "This can be done by uncomment one method of code and comment the one that was using. I repeated code in the code cell below, and have them all commented.\n",
    "\n",
    "For all of them, I got the same R-squared value and P-value."
   ]
  },
  {
   "cell_type": "code",
   "execution_count": 38,
   "metadata": {},
   "outputs": [],
   "source": [
    "#  1. Min-Max (or range)\n",
    "#\n",
    "#df['Kms_Driven_bar'] = (df['Kms_Driven'] - df['Kms_Driven'].min()) \\\n",
    "#                     / (df['Kms_Driven'].max() - df['Kms_Driven'].min())\n",
    "#df['Selling_Price_bar'] = (df['Selling_Price'] - df['Selling_Price'].min()) \\\n",
    "#                        / (df['Selling_Price'].max() - df['Selling_Price'].min())\n",
    "#df['Present_Price_bar'] = (df['Present_Price'] - df['Present_Price'].min()) \\\n",
    "#                        / (df['Present_Price'].max() - df['Present_Price'].min())\n",
    "\n",
    "#  2. L2 norm (or Euclidean distance)\n",
    "#\n",
    "#df['Kms_Driven_bar'] = df['Kms_Driven'] / np.linalg.norm(df['Kms_Driven'])\n",
    "#df['Selling_Price_bar'] = df['Selling_Price'] / np.linalg.norm(df['Selling_Price'])\n",
    "#df['Present_Price_bar'] = df['Present_Price'] / np.linalg.norm(df['Present_Price'])\n",
    "\n",
    "#  3. zscore (or standardization)\n",
    "#\n",
    "#df['Kms_Driven_bar'] = (df['Kms_Driven'] - df['Kms_Driven'].mean()) \\\n",
    "#                      / df['Kms_Driven'].std()\n",
    "#df['Selling_Price_bar'] = (df['Selling_Price'] - df['Selling_Price'].mean()) \\\n",
    "#                         / df['Selling_Price'].std()\n",
    "#df['Present_Price_bar'] = (df['Present_Price'] - df['Present_Price'].mean()) \\\n",
    "#                         / df['Present_Price'].std()\n",
    "\n",
    "#  4. Do nothing (no Normalization at all)\n",
    "#\n",
    "#df['Kms_Driven_bar'] = df['Kms_Driven']\n",
    "#df['Selling_Price_bar'] = df['Selling_Price']\n",
    "#df['Present_Price_bar'] = df['Present_Price']"
   ]
  }
 ],
 "metadata": {
  "kernelspec": {
   "display_name": "Python 3 (ipykernel)",
   "language": "python",
   "name": "python3"
  },
  "language_info": {
   "codemirror_mode": {
    "name": "ipython",
    "version": 3
   },
   "file_extension": ".py",
   "mimetype": "text/x-python",
   "name": "python",
   "nbconvert_exporter": "python",
   "pygments_lexer": "ipython3",
   "version": "3.9.16"
  }
 },
 "nbformat": 4,
 "nbformat_minor": 4
}
