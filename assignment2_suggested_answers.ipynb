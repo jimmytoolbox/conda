{
 "cells": [
  {
   "cell_type": "code",
   "execution_count": 2,
   "metadata": {},
   "outputs": [],
   "source": [
    "NAME = ''"
   ]
  },
  {
   "cell_type": "markdown",
   "metadata": {},
   "source": [
    "# Assignment 2 - Intro to Python\n",
    "\n",
    "(30 points)"
   ]
  },
  {
   "cell_type": "markdown",
   "metadata": {},
   "source": [
    "## Learning Outcomes\n",
    "\n",
    "In this assignment you will practice:\n",
    "\n",
    "- Basic Python syntax\n",
    "- Working with sequence and mapping data types\n",
    "- Working with comparison operators\n",
    "- Conditional statements\n",
    "- Loops\n",
    "- Writing custom functions\n",
    "\n",
    "### You should only use native Python functions for this assignment, without needing any libraries."
   ]
  },
  {
   "cell_type": "markdown",
   "metadata": {},
   "source": [
    "## Question 1: Working with Strings (8 points)\n",
    "\n",
    "You've been given the following 10 customer reviews about a TV product. You've been asked to conduct an analysis and identify the most common words that came up in the reviews. Using the techniques you have learned so far, create an output which orders words by frequency. Draw a conclusion about the analysis - what are the common benefits or concerns that customers highlight about the product? \n",
    "\n",
    "Hint: consider removing stop words like \"the\", \"and\", \"is\", \"i\", \"it\", \"but\", \"too\", \"a\", \"are\", \"at\", \"be\", \"can\", \"for\", \"to\" and any other you find irrelevant."
   ]
  },
  {
   "cell_type": "code",
   "execution_count": 3,
   "metadata": {},
   "outputs": [],
   "source": [
    "# customer reviews - be sure to execute this cell\n",
    "review_1 = 'The picture quality is good but the sound is a bit low '\n",
    "review_2 = 'The picture is good '\n",
    "review_3 = 'There are not enough picture settings '\n",
    "review_4 = 'The sound is too low '\n",
    "review_5 = 'The picture is perfect and movie nights are always a hit at our house '\n",
    "review_6 = 'I like that I can connect to streaming services '\n",
    "review_7 = 'The sound could be better but overall it is a good product '\n",
    "review_8 = 'The picture is vibrant especially for nature documentaries '\n",
    "review_9 = 'Great quality TV much better than my last Sony '\n",
    "review_10 = 'Overall it is a good product but I would like better app options '"
   ]
  },
  {
   "cell_type": "code",
   "execution_count": 4,
   "metadata": {},
   "outputs": [],
   "source": [
    "# Type your code here\n",
    "# Making a list of all the reviews\n",
    "\n",
    "reviews = [\n",
    "    'The picture quality is good but the sound is a bit low',\n",
    "    'The picture is good',\n",
    "    'There are not enough picture settings',\n",
    "    'The sound is too low',\n",
    "    'The picture is perfect and movie nights are always a hit at our house',\n",
    "    'I like that I can connect to streaming services',\n",
    "    'The sound could be better but overall it is a good product',\n",
    "    'The picture is vibrant especially for nature documentaries',\n",
    "    'Great quality TV much better than my last Sony',\n",
    "    'Overall it is a good product but I would like better app options'\n",
    "]"
   ]
  },
  {
   "cell_type": "code",
   "execution_count": 5,
   "metadata": {},
   "outputs": [],
   "source": [
    "all_reviews = ' '.join(reviews)\n",
    "\n",
    "# Using split Func o split into words\n",
    "words = all_reviews.split()"
   ]
  },
  {
   "cell_type": "code",
   "execution_count": 6,
   "metadata": {},
   "outputs": [],
   "source": [
    "word_count = {}\n",
    "for word in words:\n",
    "    if word in word_count:\n",
    "        word_count[word] += 1\n",
    "    else:\n",
    "        word_count[word] = 1"
   ]
  },
  {
   "cell_type": "code",
   "execution_count": 7,
   "metadata": {},
   "outputs": [],
   "source": [
    "sorted_words = sorted(word_count.items(),\n",
    "key=lambda x: x[1], reverse=True)"
   ]
  },
  {
   "cell_type": "code",
   "execution_count": 8,
   "metadata": {},
   "outputs": [
    {
     "name": "stdout",
     "output_type": "stream",
     "text": [
      "is: 8\n",
      "The: 6\n",
      "picture: 5\n",
      "good: 4\n",
      "a: 4\n",
      "but: 3\n",
      "sound: 3\n",
      "I: 3\n",
      "better: 3\n",
      "quality: 2\n",
      "low: 2\n",
      "are: 2\n",
      "like: 2\n",
      "it: 2\n",
      "product: 2\n",
      "the: 1\n",
      "bit: 1\n",
      "There: 1\n",
      "not: 1\n",
      "enough: 1\n",
      "settings: 1\n",
      "too: 1\n",
      "perfect: 1\n",
      "and: 1\n",
      "movie: 1\n",
      "nights: 1\n",
      "always: 1\n",
      "hit: 1\n",
      "at: 1\n",
      "our: 1\n",
      "house: 1\n",
      "that: 1\n",
      "can: 1\n",
      "connect: 1\n",
      "to: 1\n",
      "streaming: 1\n",
      "services: 1\n",
      "could: 1\n",
      "be: 1\n",
      "overall: 1\n",
      "vibrant: 1\n",
      "especially: 1\n",
      "for: 1\n",
      "nature: 1\n",
      "documentaries: 1\n",
      "Great: 1\n",
      "TV: 1\n",
      "much: 1\n",
      "than: 1\n",
      "my: 1\n",
      "last: 1\n",
      "Sony: 1\n",
      "Overall: 1\n",
      "would: 1\n",
      "app: 1\n",
      "options: 1\n"
     ]
    }
   ],
   "source": [
    "for word, count in sorted_words:\n",
    "    print(f\"{word}: {count}\")"
   ]
  },
  {
   "cell_type": "markdown",
   "metadata": {},
   "source": [
    "# Apart from the stop words, (picture, good,sound, better, quality, low) are some of the recurring words, which shows that the picture quality is good, however the sound is not great and needs improvement\n"
   ]
  },
  {
   "cell_type": "markdown",
   "metadata": {},
   "source": [
    "## Question 2: Working with Loops (8 points)\n",
    "\n",
    "A grocery store has recently introduced a loyalty program which allows customers to earn points for each grocery purchase, and then redeem the points for partner gift cards (e.g., Target, Amazon, Google Play Store). A customer can redeem gift cards in the amounts of $10 or $20. 100 points is worth $10. \n",
    "\n",
    "You've been given the following data of customers and their point balances, and your task is to figure out how many gift cards each person can get, assuming they will get the maximum number of $20 gift cards before getting $10 gift cards. For example, a customer with 350 points should be able to get one $20 gift card (200 points), and 1 $10 gift card (100 points), with 50 points left over.\n",
    "\n",
    "Your final output should include each customer's name and the count of $20 and $10 gift cards they can get, as well as any outstanding point balances."
   ]
  },
  {
   "cell_type": "code",
   "execution_count": 9,
   "metadata": {},
   "outputs": [],
   "source": [
    "# Executte this cell to create a dictionary of customers and their point balances\n",
    "customers={\n",
    "    'Patrik Kolton': 1254,\n",
    "    'Sita Sedna': 250,\n",
    "    'Tajeddigt Valdimárr':346,\n",
    "    'Dídac Stelios':6754,\n",
    "    'Berenice Ragnheiðr': 875,\n",
    "    'Masako Prossy':466,\n",
    "    'Ronen Achaicus':742,\n",
    "    'Anette Walenty':1298,\n",
    "    'Miski Diwata': 1348,\n",
    "    'Ayyub Neil': 1764,\n",
    "    'Loan Eunice': 983,\n",
    "    'Helene Eufrozina': 2362 \n",
    "}\n"
   ]
  },
  {
   "cell_type": "code",
   "execution_count": 10,
   "metadata": {},
   "outputs": [
    {
     "name": "stdout",
     "output_type": "stream",
     "text": [
      "Patrik Kolton:\n",
      "   20-point gift cards: 6\n",
      "   10-point gift cards: 0\n",
      "   Remaining points: 54\n",
      "\n",
      "Sita Sedna:\n",
      "   20-point gift cards: 1\n",
      "   10-point gift cards: 0\n",
      "   Remaining points: 50\n",
      "\n",
      "Tajeddigt Valdimárr:\n",
      "   20-point gift cards: 1\n",
      "   10-point gift cards: 1\n",
      "   Remaining points: 46\n",
      "\n",
      "Dídac Stelios:\n",
      "   20-point gift cards: 33\n",
      "   10-point gift cards: 1\n",
      "   Remaining points: 54\n",
      "\n",
      "Berenice Ragnheiðr:\n",
      "   20-point gift cards: 4\n",
      "   10-point gift cards: 0\n",
      "   Remaining points: 75\n",
      "\n",
      "Masako Prossy:\n",
      "   20-point gift cards: 2\n",
      "   10-point gift cards: 0\n",
      "   Remaining points: 66\n",
      "\n",
      "Ronen Achaicus:\n",
      "   20-point gift cards: 3\n",
      "   10-point gift cards: 1\n",
      "   Remaining points: 42\n",
      "\n",
      "Anette Walenty:\n",
      "   20-point gift cards: 6\n",
      "   10-point gift cards: 0\n",
      "   Remaining points: 98\n",
      "\n",
      "Miski Diwata:\n",
      "   20-point gift cards: 6\n",
      "   10-point gift cards: 1\n",
      "   Remaining points: 48\n",
      "\n",
      "Ayyub Neil:\n",
      "   20-point gift cards: 8\n",
      "   10-point gift cards: 1\n",
      "   Remaining points: 64\n",
      "\n",
      "Loan Eunice:\n",
      "   20-point gift cards: 4\n",
      "   10-point gift cards: 1\n",
      "   Remaining points: 83\n",
      "\n",
      "Helene Eufrozina:\n",
      "   20-point gift cards: 11\n",
      "   10-point gift cards: 1\n",
      "   Remaining points: 62\n",
      "\n"
     ]
    }
   ],
   "source": [
    "#Using arithmetic operaions to get the points calculated per customer using for lopp\n",
    "\n",
    "for customer, points in customers.items():\n",
    "    twenty_card_count = points // 200\n",
    "    ten_card_count = (points % 200) // 100\n",
    "    remaining_points = points % 100\n",
    "\n",
    "    print(f\"{customer}:\")\n",
    "    print(f\"   20-point gift cards: {twenty_card_count}\")\n",
    "    print(f\"   10-point gift cards: {ten_card_count}\")\n",
    "    print(f\"   Remaining points: {remaining_points}\\n\")\n",
    "    "
   ]
  },
  {
   "cell_type": "markdown",
   "metadata": {},
   "source": [
    "## Question 3: Is a data point within a rectangle? (6 points)"
   ]
  },
  {
   "cell_type": "markdown",
   "metadata": {},
   "source": [
    "Write a function `isIn()` which returns **boolean `True`** if a point is within a rectangle specified by two sets of coordinates and **boolean `False`** if the point is outside the rectangle. The function should accept three parameters:\n",
    "- the first parameter is a set of coordinates which defines one of the corners of the rectangle, \n",
    "- the second parameter is also a set of coordinates that defines the second corner,\n",
    "- the third set of coordinates defines a single point which is being tested.\n",
    "\n",
    "For example, \n",
    "- `isIn((1,2), (3,4), (1.5, 3.2))` should return `True`, \n",
    "- `isIn((4,3.5), (2,1), (3, 2))` should return `True`, \n",
    "- `isIn((-1,0), (5,5), (6,0))` should return `False`,\n",
    "- `isIn((4,1), (2,4), (2.5,4.5))` should return `False`.\n",
    "\n",
    "Test your function with at least 2 different sets of data points in addition to the examples above.\n",
    "\n",
    "**NOTES:** \n",
    "1. If the point being tested is on the side of the rectangle, consider it to be within the rectangle. For example, if the rectangle is defined as `(1,2), (3,4)` and the point is `(2,2)`, the function should return `True`.\n",
    "2. In this assignment, we assume that the edges of the rectangle are parallel to coordinate axes.\n",
    "3. We also assume that the first parameter does not always represent the left corner of the rectangle and the second parameter is not always the right corner. The function should work correctly either way. Please note the second test condition above where the first parameter, `(4,3.5)`, represents the top-right corner and the second parameter, `(2,1)`, represents left-bottom corner. "
   ]
  },
  {
   "cell_type": "code",
   "execution_count": 11,
   "metadata": {},
   "outputs": [
    {
     "name": "stdout",
     "output_type": "stream",
     "text": [
      "Check one point\n",
      "True\n",
      "True\n",
      "False\n",
      "False\n",
      "True\n",
      "True\n"
     ]
    }
   ],
   "source": [
    "from shapely.geometry import Point, box\n",
    "\n",
    "def isIn(firstCorner=(1,2), secondCorner=(3,4), point=(1.5, 3.2)):\n",
    "  minx=firstCorner[0]\n",
    "  miny=firstCorner[1]\n",
    "  maxx=secondCorner[0]\n",
    "  maxy=secondCorner[1]\n",
    "  \n",
    "  bbox=box(minx,miny,maxx,maxy,ccw=False)\n",
    "  pt=Point(point)\n",
    "#check boundary\n",
    "  if firstCorner==point or secondCorner==point:\n",
    "    return True\n",
    "  return bbox.contains(pt)\n",
    "        \n",
    "print('Check one point')\n",
    "print(isIn((1,2), (3,4), (1.5, 3.2))) #should return True \n",
    "print(isIn((4,3.5), (2,1), (3,2))) # should return True\n",
    "print(isIn((-1,0), (5,5), (6,0))) # should return False\n",
    "print(isIn((4,1), (2,4), (2.5,4.5))) # should return False\n",
    "print(isIn((2,2), (-2,-2), (2,2))) # should return True\n",
    "print(isIn((3,3), (-3,-3), (0,0))) # should return True"
   ]
  },
  {
   "cell_type": "code",
   "execution_count": 12,
   "metadata": {},
   "outputs": [],
   "source": [
    "#Inputting the values to test the Fn\n",
    "\n",
    "firstCorner = (2,4)\n",
    "secondCorner = (3,5)\n",
    "point= (2,5)"
   ]
  },
  {
   "cell_type": "code",
   "execution_count": 13,
   "metadata": {},
   "outputs": [],
   "source": [
    "result = isIn(firstCorner, secondCorner, point)"
   ]
  },
  {
   "cell_type": "code",
   "execution_count": 14,
   "metadata": {},
   "outputs": [
    {
     "name": "stdout",
     "output_type": "stream",
     "text": [
      "False\n"
     ]
    }
   ],
   "source": [
    "print(result)"
   ]
  },
  {
   "cell_type": "markdown",
   "metadata": {},
   "source": [
    "## Question 4: Are all points within a rectangle? (8 points)"
   ]
  },
  {
   "cell_type": "markdown",
   "metadata": {},
   "source": [
    "Modify your function from the previous question so it takes a list of points rather than a single point and returns **boolean `True`** only if all points in the list are in the rectangle.\n",
    "\n",
    "For example,\n",
    "\n",
    "- `allIn((0,0), (5,5), [(1,1), (0,0), (5,5)])` should return `True`\n",
    "- but `allIn((0,0), (5,5), [(1,1), (0,0), (5,6)])` should return `False`\n",
    "- empty list of points `allIn((0,0), (5,5), [])` should return `False`\n",
    "\n",
    "Use the same assumptions as above about the placement of the points and how rectangle is defined. Make sure that your function returns `False` for empty list of points (no values).\n",
    "\n",
    "Test your function with at least 3 different sets of data points."
   ]
  },
  {
   "cell_type": "code",
   "execution_count": 15,
   "metadata": {},
   "outputs": [
    {
     "name": "stdout",
     "output_type": "stream",
     "text": [
      "Check all points\n",
      "POINT (1 1)\n",
      "POINT (0 0)\n",
      "POINT (5 5)\n",
      "True\n",
      "POINT (1 1)\n",
      "POINT (0 0)\n",
      "POINT (5 6)\n",
      "False\n",
      "False\n"
     ]
    }
   ],
   "source": [
    "#def allIn(firstCorner=(1,2), secondCorner=(3,4), point=[(1,1), (0,0), (5,5)]):\n",
    "def allIn(firstCorner=(0,0), secondCorner=(0,0), point=[]):\n",
    "  minx=firstCorner[0]\n",
    "  miny=firstCorner[1]\n",
    "  maxx=secondCorner[0]\n",
    "  maxy=secondCorner[1]\n",
    "\n",
    "  if len(point)==0:\n",
    "    return False;\n",
    "\n",
    "  bbox=box(minx,miny,maxx,maxy,ccw=False)\n",
    "  for p in point:\n",
    "     pt=Point(p)\n",
    "     print(pt)\n",
    "     if (not bbox.contains(pt) and p!=firstCorner and p!=secondCorner) or pt==[]:\n",
    "         return False\n",
    "  return True\n",
    "\n",
    "print(\"Check all points\")\n",
    "print(allIn((0,0), (5,5), [(1,1), (0,0), (5,5)])) #should return True\n",
    "print(allIn((0,0), (5,5), [(1,1), (0,0), (5,6)])) #should return False\n",
    "print(allIn((0,0), (5,5), [])) #should return False"
   ]
  },
  {
   "cell_type": "code",
   "execution_count": 16,
   "metadata": {},
   "outputs": [
    {
     "name": "stdout",
     "output_type": "stream",
     "text": [
      "POINT (1 1)\n",
      "POINT (0 0)\n",
      "POINT (5 5)\n",
      "True\n"
     ]
    }
   ],
   "source": [
    "#Inputting the first, second corner and points values manually to generate the output - Testing #1\n",
    "\n",
    "result = allIn((0,0), (5,5), [(1, 1), (0, 0), (5, 5)])\n",
    "print(result) "
   ]
  },
  {
   "cell_type": "code",
   "execution_count": 17,
   "metadata": {},
   "outputs": [
    {
     "name": "stdout",
     "output_type": "stream",
     "text": [
      "POINT (0 1)\n",
      "False\n",
      "POINT (1 1)\n",
      "POINT (0 0)\n",
      "POINT (5 0)\n",
      "False\n",
      "False\n"
     ]
    }
   ],
   "source": [
    "#Inputting the corner values once and changing th points values.... Also checking the empty list - Testing #2\n",
    "\n",
    "firstCorner = (0, 0)\n",
    "secondCorner = (5, 5)\n",
    "\n",
    "pointList1=[(0,1), (5,3), (3,2)]\n",
    "result1= allIn(firstCorner, secondCorner, pointList1)\n",
    "print(result1)\n",
    "\n",
    "pointList2 = [(1, 1), (0, 0), (5, 0)]\n",
    "result2 = allIn(firstCorner, secondCorner, pointList2)\n",
    "print(result2) \n",
    "\n",
    "pointList3 = []\n",
    "result3 = allIn(firstCorner, secondCorner, pointList3)\n",
    "print(result3) "
   ]
  },
  {
   "cell_type": "code",
   "execution_count": null,
   "metadata": {},
   "outputs": [],
   "source": []
  },
  {
   "cell_type": "code",
   "execution_count": null,
   "metadata": {},
   "outputs": [],
   "source": []
  }
 ],
 "metadata": {
  "kernelspec": {
   "display_name": "Python 3",
   "language": "python",
   "name": "python3"
  },
  "language_info": {
   "codemirror_mode": {
    "name": "ipython",
    "version": 3
   },
   "file_extension": ".py",
   "mimetype": "text/x-python",
   "name": "python",
   "nbconvert_exporter": "python",
   "pygments_lexer": "ipython3",
   "version": "3.7.5"
  },
  "toc": {
   "base_numbering": 1,
   "nav_menu": {},
   "number_sections": false,
   "sideBar": true,
   "skip_h1_title": false,
   "title_cell": "Table of Contents",
   "title_sidebar": "Contents",
   "toc_cell": false,
   "toc_position": {},
   "toc_section_display": true,
   "toc_window_display": false
  },
  "vscode": {
   "interpreter": {
    "hash": "aee8b7b246df8f9039afb4144a1f6fd8d2ca17a180786b69acc140d282b71a49"
   }
  }
 },
 "nbformat": 4,
 "nbformat_minor": 4
}
