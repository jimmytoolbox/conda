{
 "cells": [
  {
   "cell_type": "code",
   "execution_count": 1,
   "metadata": {},
   "outputs": [],
   "source": [
    "NAME = 'James Shen'"
   ]
  },
  {
   "cell_type": "markdown",
   "metadata": {},
   "source": [
    "# Assignment 2 - Intro to Python\n",
    "\n",
    "(30 points)"
   ]
  },
  {
   "cell_type": "markdown",
   "metadata": {},
   "source": [
    "## Learning Outcomes\n",
    "\n",
    "In this assignment you will practice:\n",
    "\n",
    "- Basic Python syntax\n",
    "- Working with sequence and mapping data types\n",
    "- Working with comparison operators\n",
    "- Conditional statements\n",
    "- Loops\n",
    "- Writing custom functions\n",
    "\n",
    "### You should only use native Python functions for this assignment, without needing any libraries."
   ]
  },
  {
   "cell_type": "markdown",
   "metadata": {},
   "source": [
    "## Question 1: Working with Strings (8 points)\n",
    "\n",
    "You've been given the following 10 customer reviews about a TV product. You've been asked to conduct an analysis and identify the most common words that came up in the reviews. Using the techniques you have learned so far, create an output which orders words by frequency. Draw a conclusion about the analysis - what are the common benefits or concerns that customers highlight about the product? \n",
    "\n",
    "Hint: consider removing stop words like \"the\", \"and\", \"is\", \"i\", \"it\", \"but\", \"too\", \"a\", \"are\", \"at\", \"be\", \"can\", \"for\", \"to\" and any other you find irrelevant."
   ]
  },
  {
   "cell_type": "code",
   "execution_count": 2,
   "metadata": {},
   "outputs": [],
   "source": [
    "# customer reviews - be sure to execute this cell\n",
    "review_1 = 'The picture quality is good but the sound is a bit low '\n",
    "review_2 = 'The picture is good '\n",
    "review_3 = 'There are not enough picture settings '\n",
    "review_4 = 'The sound is too low '\n",
    "review_5 = 'The picture is perfect and movie nights are always a hit at our house '\n",
    "review_6 = 'I like that I can connect to streaming services '\n",
    "review_7 = 'The sound could be better but overall it is a good product '\n",
    "review_8 = 'The picture is vibrant especially for nature documentaries '\n",
    "review_9 = 'Great quality TV much better than my last Sony '\n",
    "review_10 = 'Overall it is a good product but I would like better app options '"
   ]
  },
  {
   "cell_type": "code",
   "execution_count": 3,
   "metadata": {},
   "outputs": [],
   "source": [
    "# Type your code here\n",
    "stop_words = (\"the\", \"and\", \"is\", \"i\", \"it\", \"but\", \"too\", \"a\", \"are\", \"at\", \"be\", \"can\", \"for\", \"to\")"
   ]
  },
  {
   "cell_type": "code",
   "execution_count": 4,
   "metadata": {},
   "outputs": [],
   "source": [
    "# combine all review words into all_words except stop words\n",
    "all_words = []\n",
    "\n",
    "for i in range(10):\n",
    "    review = 'review_'+str(i+1)\n",
    "    \n",
    "    for word in eval(review).split():\n",
    "        if word.lower() not in stop_words:\n",
    "            all_words.append(word.lower())\n",
    "\n",
    "# identify the most common words that came up in the reviews\n",
    "wordfreq = {}\n",
    "\n",
    "for word in all_words:\n",
    "    wordfreq[word] = wordfreq.setdefault(word, 0) + 1\n",
    "\n",
    "sorted_keys = sorted(wordfreq, key=wordfreq.get, reverse=True)\n",
    "sorted_wordfreq = {k: wordfreq[k] for k in sorted_keys}"
   ]
  },
  {
   "cell_type": "markdown",
   "metadata": {},
   "source": [
    "### Using the techniques you have learned so far, create an output which orders words by frequency"
   ]
  },
  {
   "cell_type": "code",
   "execution_count": 5,
   "metadata": {},
   "outputs": [
    {
     "name": "stdout",
     "output_type": "stream",
     "text": [
      "picture : 5\n",
      "good : 4\n",
      "sound : 3\n",
      "better : 3\n",
      "quality : 2\n",
      "low : 2\n",
      "like : 2\n",
      "overall : 2\n",
      "product : 2\n",
      "bit : 1\n",
      "there : 1\n",
      "not : 1\n",
      "enough : 1\n",
      "settings : 1\n",
      "perfect : 1\n",
      "movie : 1\n",
      "nights : 1\n",
      "always : 1\n",
      "hit : 1\n",
      "our : 1\n",
      "house : 1\n",
      "that : 1\n",
      "connect : 1\n",
      "streaming : 1\n",
      "services : 1\n",
      "could : 1\n",
      "vibrant : 1\n",
      "especially : 1\n",
      "nature : 1\n",
      "documentaries : 1\n",
      "great : 1\n",
      "tv : 1\n",
      "much : 1\n",
      "than : 1\n",
      "my : 1\n",
      "last : 1\n",
      "sony : 1\n",
      "would : 1\n",
      "app : 1\n",
      "options : 1\n"
     ]
    }
   ],
   "source": [
    "for k in sorted_wordfreq:\n",
    "    print(k, ':', sorted_wordfreq[k])"
   ]
  },
  {
   "cell_type": "markdown",
   "metadata": {},
   "source": [
    "### Draw a conclusion about the analysis\n",
    "\n",
    "Based on the output of sorted_wordfreq variable that orders words by frequency, we can draw a conclusion of this analysis that the most common words in 10 customer reviews about a TV product should be in this descending order:\n",
    "\n",
    "* picture\n",
    "* good\n",
    "* sound\n",
    "* better\n",
    "* quality\n",
    "* low\n",
    "* like\n",
    "* overall\n",
    "* product\n",
    "\n",
    "The rest of the words (except stop words) only appear once.\n",
    "\n",
    "### What are the common benefits or concerns that customers highlight about the product\n",
    "\n",
    "The common benefits are this TV product has good picture and the picture quality is good.\n",
    "\n",
    "The common concerns are this TV product has low sound and sound could be better."
   ]
  },
  {
   "cell_type": "markdown",
   "metadata": {},
   "source": [
    "## Question 2: Working with Loops (8 points)\n",
    "\n",
    "A grocery store has recently introduced a loyalty program which allows customers to earn points for each grocery purchase, and then redeem the points for partner gift cards (e.g., Target, Amazon, Google Play Store). A customer can redeem gift cards in the amounts of $10 or $20. 100 points is worth $10. \n",
    "\n",
    "You've been given the following data of customers and their point balances, and your task is to figure out how many gift cards each person can get, assuming they will get the maximum number of $20 gift cards before getting $10 gift cards. For example, a customer with 350 points should be able to get one $20 gift card (200 points), and 1 $10 gift card (100 points), with 50 points left over.\n",
    "\n",
    "Your final output should include each customer's name and the count of $20 and $10 gift cards they can get, as well as any outstanding point balances."
   ]
  },
  {
   "cell_type": "code",
   "execution_count": 6,
   "metadata": {},
   "outputs": [],
   "source": [
    "# Execute this cell to create a dictionary of customers and their point balances\n",
    "customers={\n",
    "    'Patrik Kolton': 1254,\n",
    "    'Sita Sedna': 250,\n",
    "    'Tajeddigt Valdimárr':346,\n",
    "    'Dídac Stelios':6754,\n",
    "    'Berenice Ragnheiðr': 875,\n",
    "    'Masako Prossy':466,\n",
    "    'Ronen Achaicus':742,\n",
    "    'Anette Walenty':1298,\n",
    "    'Miski Diwata': 1348,\n",
    "    'Ayyub Neil': 1764,\n",
    "    'Loan Eunice': 983,\n",
    "    'Helene Eufrozina': 2362 \n",
    "}"
   ]
  },
  {
   "cell_type": "code",
   "execution_count": 7,
   "metadata": {},
   "outputs": [],
   "source": [
    "# Define 'customer' object\n",
    "class customer:\n",
    "    customer_name = ''\n",
    "    original_point_balance = 0\n",
    "    gift_card_20_cnt = 0\n",
    "    gift_card_10_cnt = 0\n",
    "    outstanding_point_balance = 0"
   ]
  },
  {
   "cell_type": "code",
   "execution_count": 8,
   "metadata": {},
   "outputs": [],
   "source": [
    "# Declare customer_list variable, which hold all customer's objects\n",
    "customer_list = []"
   ]
  },
  {
   "cell_type": "code",
   "execution_count": 9,
   "metadata": {},
   "outputs": [],
   "source": [
    "# instantiates 'customer' objects\n",
    "for item in customers.items():\n",
    "    this_customer = customer()\n",
    "    this_customer.customer_name = item[0]\n",
    "    this_point = item[1]\n",
    "    this_customer.original_point_balance = this_point\n",
    "    this_customer.gift_card_20_cnt = (this_point-this_point%200)//200\n",
    "    this_point = this_point%200\n",
    "    this_customer.gift_card_10_cnt = (this_point-this_point%100)//100\n",
    "    this_customer.outstanding_point_balance = this_point%100\n",
    "    customer_list.append(this_customer)"
   ]
  },
  {
   "cell_type": "code",
   "execution_count": 10,
   "metadata": {},
   "outputs": [
    {
     "name": "stdout",
     "output_type": "stream",
     "text": [
      "\n",
      "Customer's name: Patrik Kolton\n",
      "\tOriginal point balances 1254\n",
      "\tCount of 20 gift cards: 6\n",
      "\tCount of 10 gift cards: 0\n",
      "\tOutstanding point balances 54\n",
      "\n",
      "Customer's name: Sita Sedna\n",
      "\tOriginal point balances 250\n",
      "\tCount of 20 gift cards: 1\n",
      "\tCount of 10 gift cards: 0\n",
      "\tOutstanding point balances 50\n",
      "\n",
      "Customer's name: Tajeddigt Valdimárr\n",
      "\tOriginal point balances 346\n",
      "\tCount of 20 gift cards: 1\n",
      "\tCount of 10 gift cards: 1\n",
      "\tOutstanding point balances 46\n",
      "\n",
      "Customer's name: Dídac Stelios\n",
      "\tOriginal point balances 6754\n",
      "\tCount of 20 gift cards: 33\n",
      "\tCount of 10 gift cards: 1\n",
      "\tOutstanding point balances 54\n",
      "\n",
      "Customer's name: Berenice Ragnheiðr\n",
      "\tOriginal point balances 875\n",
      "\tCount of 20 gift cards: 4\n",
      "\tCount of 10 gift cards: 0\n",
      "\tOutstanding point balances 75\n",
      "\n",
      "Customer's name: Masako Prossy\n",
      "\tOriginal point balances 466\n",
      "\tCount of 20 gift cards: 2\n",
      "\tCount of 10 gift cards: 0\n",
      "\tOutstanding point balances 66\n",
      "\n",
      "Customer's name: Ronen Achaicus\n",
      "\tOriginal point balances 742\n",
      "\tCount of 20 gift cards: 3\n",
      "\tCount of 10 gift cards: 1\n",
      "\tOutstanding point balances 42\n",
      "\n",
      "Customer's name: Anette Walenty\n",
      "\tOriginal point balances 1298\n",
      "\tCount of 20 gift cards: 6\n",
      "\tCount of 10 gift cards: 0\n",
      "\tOutstanding point balances 98\n",
      "\n",
      "Customer's name: Miski Diwata\n",
      "\tOriginal point balances 1348\n",
      "\tCount of 20 gift cards: 6\n",
      "\tCount of 10 gift cards: 1\n",
      "\tOutstanding point balances 48\n",
      "\n",
      "Customer's name: Ayyub Neil\n",
      "\tOriginal point balances 1764\n",
      "\tCount of 20 gift cards: 8\n",
      "\tCount of 10 gift cards: 1\n",
      "\tOutstanding point balances 64\n",
      "\n",
      "Customer's name: Loan Eunice\n",
      "\tOriginal point balances 983\n",
      "\tCount of 20 gift cards: 4\n",
      "\tCount of 10 gift cards: 1\n",
      "\tOutstanding point balances 83\n",
      "\n",
      "Customer's name: Helene Eufrozina\n",
      "\tOriginal point balances 2362\n",
      "\tCount of 20 gift cards: 11\n",
      "\tCount of 10 gift cards: 1\n",
      "\tOutstanding point balances 62\n"
     ]
    }
   ],
   "source": [
    "# display final output\n",
    "for this_customer in customer_list:\n",
    "    print(\"\\nCustomer's name:\", this_customer.customer_name)\n",
    "    print(\"\\tOriginal point balances\", this_customer.original_point_balance)\n",
    "    print(\"\\tCount of 20 gift cards:\", this_customer.gift_card_20_cnt)\n",
    "    print(\"\\tCount of 10 gift cards:\", this_customer.gift_card_10_cnt)\n",
    "    print(\"\\tOutstanding point balances\", this_customer.outstanding_point_balance)"
   ]
  },
  {
   "cell_type": "markdown",
   "metadata": {},
   "source": [
    "## Question 3: Is a data point within a rectangle? (6 points)"
   ]
  },
  {
   "cell_type": "markdown",
   "metadata": {},
   "source": [
    "Write a function `isIn()` which returns **boolean `True`** if a point is within a rectangle specified by two sets of coordinates and **boolean `False`** if the point is outside the rectangle. The function should accept three parameters:\n",
    "- the first parameter is a set of coordinates which defines one of the corners of the rectangle, \n",
    "- the second parameter is also a set of coordinates that defines the second corner,\n",
    "- the third set of coordinates defines a single point which is being tested.\n",
    "\n",
    "For example, \n",
    "- `isIn((1,2), (3,4), (1.5, 3.2))` should return `True`, \n",
    "- `isIn((4,3.5), (2,1), (3, 2))` should return `True`, \n",
    "- `isIn((-1,0), (5,5), (6,0))` should return `False`,\n",
    "- `isIn((4,1), (2,4), (2.5,4.5))` should return `False`.\n",
    "\n",
    "Test your function with at least 2 different sets of data points in addition to the examples above.\n",
    "\n",
    "**NOTES:** \n",
    "1. If the point being tested is on the side of the rectangle, consider it to be within the rectangle. For example, if the rectangle is defined as `(1,2), (3,4)` and the point is `(2,2)`, the function should return `True`.\n",
    "2. In this assignment, we assume that the edges of the rectangle are parallel to coordinate axes.\n",
    "3. We also assume that the first parameter does not always represent the left corner of the rectangle and the second parameter is not always the right corner. The function should work correctly either way. Please note the second test condition above where the first parameter, `(4,3.5)`, represents the top-right corner and the second parameter, `(2,1)`, represents left-bottom corner. "
   ]
  },
  {
   "cell_type": "code",
   "execution_count": 11,
   "metadata": {},
   "outputs": [],
   "source": [
    "def isIn(firstCorner=(0,0), secondCorner=(0,0), point=(0,0)):\n",
    "    '''(tuple, tuple, tuple) -> bool\n",
    "    \n",
    "    The first parameter is a set of coordinates which defines one of the corners \n",
    "    of the rectangle\n",
    "    \n",
    "    The second parameter is also a set of coordinates that defines the second corner\n",
    "    \n",
    "    The third set of coordinates defines a single point which is being tested.\n",
    "\n",
    "    Rreturns boolean True if a point is within a rectangle specified by two sets \n",
    "    of coordinates and boolean False if the point is outside the rectangle.\n",
    "    \n",
    "    Notes:\n",
    "    \n",
    "    1. If the point being tested is on the side of the rectangle, consider it to be \n",
    "       within the rectangle. For example, if the rectangle is defined as (1,2), (3,4) \n",
    "       and the point is (2,2), the function should return True.\n",
    "       \n",
    "    2. In this assignment, we assume that the edges of the rectangle are parallel to \n",
    "       coordinate axes.\n",
    "       \n",
    "    3. We also assume that the first parameter does not always represent the left \n",
    "       corner of the rectangle and the second parameter is not always the right corner. \n",
    "       The function should work correctly either way. Please note the second test \n",
    "       condition above where the first parameter, (4,3.5), represents the top-right \n",
    "       corner and the second parameter, (2,1), represents left-bottom corner.\n",
    "    \n",
    "    >>> isIn((1,2), (3,4), (1.5, 3.2))\n",
    "    True\n",
    "    >>> isIn((4,3.5), (2,1), (3, 2))\n",
    "    True\n",
    "    >>> isIn((-1,0), (5,5), (6,0))\n",
    "    False\n",
    "    >>> isIn((4,1), (2,4), (2.5,4.5))\n",
    "    False\n",
    "    '''\n",
    "    \n",
    "    inRectangle = True\n",
    "    \n",
    "    border_x = sorted([firstCorner[0], secondCorner[0]])\n",
    "    border_y = sorted([firstCorner[1], secondCorner[1]])\n",
    "    \n",
    "    if point[0] < border_x[0] or point[0] > border_x[1] or \\\n",
    "        point[1] < border_y[0] or point[1] > border_y[1]:\n",
    "    \n",
    "        inRectangle = False\n",
    "    \n",
    "    return inRectangle"
   ]
  },
  {
   "cell_type": "code",
   "execution_count": 12,
   "metadata": {},
   "outputs": [
    {
     "name": "stdout",
     "output_type": "stream",
     "text": [
      "Help on function isIn in module __main__:\n",
      "\n",
      "isIn(firstCorner=(0, 0), secondCorner=(0, 0), point=(0, 0))\n",
      "    (tuple, tuple, tuple) -> bool\n",
      "    \n",
      "    The first parameter is a set of coordinates which defines one of the corners \n",
      "    of the rectangle\n",
      "    \n",
      "    The second parameter is also a set of coordinates that defines the second corner\n",
      "    \n",
      "    The third set of coordinates defines a single point which is being tested.\n",
      "    \n",
      "    Rreturns boolean True if a point is within a rectangle specified by two sets \n",
      "    of coordinates and boolean False if the point is outside the rectangle.\n",
      "    \n",
      "    Notes:\n",
      "    \n",
      "    1. If the point being tested is on the side of the rectangle, consider it to be \n",
      "       within the rectangle. For example, if the rectangle is defined as (1,2), (3,4) \n",
      "       and the point is (2,2), the function should return True.\n",
      "       \n",
      "    2. In this assignment, we assume that the edges of the rectangle are parallel to \n",
      "       coordinate axes.\n",
      "       \n",
      "    3. We also assume that the first parameter does not always represent the left \n",
      "       corner of the rectangle and the second parameter is not always the right corner. \n",
      "       The function should work correctly either way. Please note the second test \n",
      "       condition above where the first parameter, (4,3.5), represents the top-right \n",
      "       corner and the second parameter, (2,1), represents left-bottom corner.\n",
      "    \n",
      "    >>> isIn((1,2), (3,4), (1.5, 3.2))\n",
      "    True\n",
      "    >>> isIn((4,3.5), (2,1), (3, 2))\n",
      "    True\n",
      "    >>> isIn((-1,0), (5,5), (6,0))\n",
      "    False\n",
      "    >>> isIn((4,1), (2,4), (2.5,4.5))\n",
      "    False\n",
      "\n"
     ]
    }
   ],
   "source": [
    "help(isIn)"
   ]
  },
  {
   "cell_type": "code",
   "execution_count": 13,
   "metadata": {},
   "outputs": [
    {
     "name": "stdout",
     "output_type": "stream",
     "text": [
      "True\n",
      "True\n",
      "False\n",
      "False\n"
     ]
    }
   ],
   "source": [
    "# Test examples above:\n",
    "\n",
    "print(isIn((1,2), (3,4), (1.5, 3.2)))\n",
    "print(isIn((4,3.5), (2,1), (3, 2)))\n",
    "print(isIn((-1,0), (5,5), (6,0)))\n",
    "print(isIn((4,1), (2,4), (2.5,4.5)))"
   ]
  },
  {
   "cell_type": "code",
   "execution_count": 14,
   "metadata": {},
   "outputs": [
    {
     "name": "stdout",
     "output_type": "stream",
     "text": [
      "True\n",
      "False\n"
     ]
    }
   ],
   "source": [
    "# Test your function with at least 2 different sets of data points \n",
    "# in addition to the examples above:\n",
    "\n",
    "print(isIn((11,22), (3,4), (3, 22)))\n",
    "print(isIn((2,5), (33,44), (1, 22)))"
   ]
  },
  {
   "cell_type": "markdown",
   "metadata": {},
   "source": [
    "## Question 4: Are all points within a rectangle? (8 points)"
   ]
  },
  {
   "cell_type": "markdown",
   "metadata": {},
   "source": [
    "Modify your function from the previous question so it takes a list of points rather than a single point and returns **boolean `True`** only if all points in the list are in the rectangle.\n",
    "\n",
    "For example,\n",
    "\n",
    "- `allIn((0,0), (5,5), [(1,1), (0,0), (5,5)])` should return `True`\n",
    "- but `allIn((0,0), (5,5), [(1,1), (0,0), (5,6)])` should return `False`\n",
    "- empty list of points `allIn((0,0), (5,5), [])` should return `False`\n",
    "\n",
    "Use the same assumptions as above about the placement of the points and how rectangle is defined. Make sure that your function returns `False` for empty list of points (no values).\n",
    "\n",
    "Test your function with at least 3 different sets of data points."
   ]
  },
  {
   "cell_type": "code",
   "execution_count": 15,
   "metadata": {},
   "outputs": [],
   "source": [
    "def allIn(firstCorner=(0,0), secondCorner=(0,0), pointList=[]):\n",
    "    # YOUR CODE HERE\n",
    "    \n",
    "    inRectangle = True\n",
    "    \n",
    "    if pointList==[]:\n",
    "        inRectangle = False\n",
    "    else:\n",
    "        for point in pointList:\n",
    "            inRectangle = isIn(firstCorner, secondCorner, point)\n",
    "            \n",
    "            if not inRectangle:\n",
    "                break\n",
    "    \n",
    "    return inRectangle"
   ]
  },
  {
   "cell_type": "code",
   "execution_count": 16,
   "metadata": {},
   "outputs": [
    {
     "name": "stdout",
     "output_type": "stream",
     "text": [
      "True\n",
      "False\n",
      "False\n"
     ]
    }
   ],
   "source": [
    "# Test examples above:\n",
    "\n",
    "print(allIn((0,0), (5,5), [(1,1), (0,0), (5,5)]))\n",
    "print(allIn((0,0), (5,5), [(1,1), (0,0), (5,6)]))\n",
    "print(allIn((0,0), (5,5), []))"
   ]
  },
  {
   "cell_type": "code",
   "execution_count": 17,
   "metadata": {},
   "outputs": [
    {
     "name": "stdout",
     "output_type": "stream",
     "text": [
      "False\n",
      "True\n",
      "False\n"
     ]
    }
   ],
   "source": [
    "# Test your function with at least 3 different sets of data points \n",
    "# in addition to the examples above:\n",
    "\n",
    "print(allIn((11,21), (13,41), [(2,1), (13,31)]))\n",
    "print(allIn((1,2), (3,4), [(2,2), (3,3)]))\n",
    "print(allIn((1,2), (3,4), []))"
   ]
  }
 ],
 "metadata": {
  "kernelspec": {
   "display_name": "Python 3 (ipykernel)",
   "language": "python",
   "name": "python3"
  },
  "language_info": {
   "codemirror_mode": {
    "name": "ipython",
    "version": 3
   },
   "file_extension": ".py",
   "mimetype": "text/x-python",
   "name": "python",
   "nbconvert_exporter": "python",
   "pygments_lexer": "ipython3",
   "version": "3.9.16"
  },
  "toc": {
   "base_numbering": 1,
   "nav_menu": {},
   "number_sections": false,
   "sideBar": true,
   "skip_h1_title": false,
   "title_cell": "Table of Contents",
   "title_sidebar": "Contents",
   "toc_cell": false,
   "toc_position": {},
   "toc_section_display": true,
   "toc_window_display": false
  },
  "vscode": {
   "interpreter": {
    "hash": "aee8b7b246df8f9039afb4144a1f6fd8d2ca17a180786b69acc140d282b71a49"
   }
  }
 },
 "nbformat": 4,
 "nbformat_minor": 4
}
